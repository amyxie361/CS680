{
 "cells": [
  {
   "cell_type": "markdown",
   "metadata": {},
   "source": [
    "# Load data"
   ]
  },
  {
   "cell_type": "code",
   "execution_count": 30,
   "metadata": {},
   "outputs": [
    {
     "data": {
      "text/plain": [
       "array([0., 0., 0., 0., 0., 1., 0., 0., 0., 0.], dtype=float32)"
      ]
     },
     "execution_count": 30,
     "metadata": {},
     "output_type": "execute_result"
    }
   ],
   "source": [
    "from keras.datasets import mnist\n",
    "#download mnist data and split into train and test sets\n",
    "(X_train, y_train), (X_test, y_test) = mnist.load_data()\n",
    "#import matplotlib.pyplot as plt\n",
    "#plot the first image in the dataset\n",
    "#plt.imshow(X_train[0])\n",
    "#X_train[0].shape\n",
    "#X_train = X_train.reshape(60000,28,28,1)\n",
    "\n",
    "from keras.utils import to_categorical\n",
    "#one-hot encode target column\n",
    "y_train = to_categorical(y_train)\n",
    "y_test = to_categorical(y_test)\n",
    "y_train[0]"
   ]
  },
  {
   "cell_type": "code",
   "execution_count": 31,
   "metadata": {},
   "outputs": [
    {
     "name": "stderr",
     "output_type": "stream",
     "text": [
      "/home/y247xie/.local/lib/python3.5/site-packages/sklearn/utils/validation.py:590: DataConversionWarning: Data with input dtype uint8 was converted to float64 by MinMaxScaler.\n",
      "  warnings.warn(msg, DataConversionWarning)\n"
     ]
    }
   ],
   "source": [
    "from PIL import Image\n",
    "import numpy as np\n",
    "def resize_image(data):\n",
    "    img = Image.fromarray(data.reshape(28,28))\n",
    "    img = img.resize(size=(32,32))\n",
    "    return np.array(img)\n",
    "from sklearn.preprocessing import MinMaxScaler\n",
    "scaler = MinMaxScaler()\n",
    "scaler = scaler.fit(X_train.reshape(60000,28*28))\n",
    "X_train = scaler.transform(X_train.reshape(60000,28*28))\n",
    "X_test = scaler.transform(X_test.reshape(10000,28*28))\n",
    "X_train = np.array([resize_image(x) for x in X_train])\n",
    "X_test = np.array([resize_image(x) for x in X_test])\n",
    "X_train = X_train.reshape(60000,32,32,1)\n",
    "X_test = X_test.reshape(10000,32,32,1)"
   ]
  },
  {
   "cell_type": "markdown",
   "metadata": {},
   "source": [
    "# Build NN"
   ]
  },
  {
   "cell_type": "code",
   "execution_count": null,
   "metadata": {},
   "outputs": [],
   "source": [
    "X_train_full = X_train\n",
    "X_test_full = X_test\n",
    "y_train_full = y_train\n",
    "y_test_full = y_test\n",
    "\n",
    "X_train = X_train[:1000]\n",
    "y_train = y_train[:1000]\n",
    "X_test = X_test[:100]\n",
    "y_test = y_test[:100]"
   ]
  },
  {
   "cell_type": "code",
   "execution_count": null,
   "metadata": {},
   "outputs": [
    {
     "name": "stdout",
     "output_type": "stream",
     "text": [
      "Train on 60000 samples, validate on 10000 samples\n",
      "Epoch 1/100\n",
      " 5120/60000 [=>............................] - ETA: 8:17 - loss: 2.3019 - acc: 0.1189"
     ]
    }
   ],
   "source": [
    "import time\n",
    "from keras.models import Sequential\n",
    "from keras.layers import Dense, Conv2D, Flatten,MaxPooling2D\n",
    "from keras import optimizers\n",
    "#create model\n",
    "start_time = time.time()\n",
    "model = Sequential()\n",
    "#add model layers\n",
    "model.add(Conv2D(64, kernel_size=3, activation='relu', padding='same',\n",
    "                 input_shape=(32,32,1)))\n",
    "model.add(MaxPooling2D(pool_size=(2, 2), strides=2))\n",
    "model.add(Conv2D(128, kernel_size=3, activation='relu', padding='same'))\n",
    "#input_shape=(16,16,64), \n",
    "model.add(MaxPooling2D(pool_size=(2, 2), strides=2))\n",
    "model.add(Conv2D(256, kernel_size=3, activation='relu', padding='same'))\n",
    "#input_shape=(8,8,128), \n",
    "model.add(Conv2D(256, kernel_size=3, activation='relu', padding='same'))\n",
    "#input_shape=(8,8,128), \n",
    "model.add(MaxPooling2D(pool_size=(2, 2), strides=2))\n",
    "model.add(Conv2D(512, kernel_size=3, activation='relu', padding='same'))\n",
    "#input_shape=(4,4,256), \n",
    "model.add(Conv2D(512, kernel_size=3, activation='relu', padding='same'))\n",
    "#input_shape=(4,4,256),\n",
    "model.add(MaxPooling2D(pool_size=(2, 2), strides=2))\n",
    "model.add(Conv2D(512, kernel_size=3, activation='relu', padding='same'))\n",
    "#input_shape=(2,2,512), \n",
    "model.add(Conv2D(512, kernel_size=3, activation='relu', padding='same'))\n",
    "#input_shape=(2,2,512), \n",
    "model.add(MaxPooling2D(pool_size=(2, 2), strides=2))\n",
    "model.add(Flatten())\n",
    "model.add(Dense(512))\n",
    "model.add(Dense(512))\n",
    "model.add(Dense(10,activation='softmax'))\n",
    "\n",
    "#compile model using accuracy to measure model performance\n",
    "\n",
    "sgd = optimizers.SGD(lr=0.001, decay=1e-6, momentum=0.9, nesterov=True)\n",
    "adam = optimizers.Adamax(lr=0.002, beta_1=0.9, beta_2=0.999, epsilon=None, decay=1e-5)\n",
    "\n",
    "model.compile(optimizer=sgd, loss='categorical_crossentropy', metrics=['accuracy'])\n",
    "#train the model\n",
    "history = model.fit(X_train, y_train, validation_data=(X_test, y_test), epochs=100, batch_size=128)\n",
    "print(history.history.keys)\n",
    "#predict first 4 images in the test set\n",
    "#model.predict(X_test[:4])\n",
    "#actual results for first 4 images in test set\n",
    "#y_test[:4]\n",
    "end_time = time.time()\n",
    "print((end_time-start_time)/60)"
   ]
  },
  {
   "cell_type": "code",
   "execution_count": null,
   "metadata": {},
   "outputs": [],
   "source": [
    "import matplotlib.pyplot as plt\n",
    "plt.plot(history.history['acc'])\n",
    "plt.plot(history.history['val_acc'])\n",
    "plt.title('model loss')\n",
    "plt.show()\n",
    "plt.plot(history.history['loss'])\n",
    "plt.plot(history.history['val_loss'])\n",
    "plt.show()"
   ]
  },
  {
   "cell_type": "code",
   "execution_count": null,
   "metadata": {},
   "outputs": [],
   "source": []
  }
 ],
 "metadata": {
  "kernelspec": {
   "display_name": "Python 3",
   "language": "python",
   "name": "python3"
  },
  "language_info": {
   "codemirror_mode": {
    "name": "ipython",
    "version": 3
   },
   "file_extension": ".py",
   "mimetype": "text/x-python",
   "name": "python",
   "nbconvert_exporter": "python",
   "pygments_lexer": "ipython3",
   "version": "3.5.2"
  }
 },
 "nbformat": 4,
 "nbformat_minor": 2
}
