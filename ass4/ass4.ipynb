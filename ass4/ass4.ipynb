{
 "cells": [
  {
   "cell_type": "markdown",
   "metadata": {},
   "source": [
    "# Load data"
   ]
  },
  {
   "cell_type": "code",
   "execution_count": 1,
   "metadata": {},
   "outputs": [
    {
     "name": "stderr",
     "output_type": "stream",
     "text": [
      "Using TensorFlow backend.\n"
     ]
    }
   ],
   "source": [
    "from keras.datasets import mnist\n",
    "from PIL import Image\n",
    "import numpy as np\n",
    "from keras.utils import to_categorical\n",
    "from sklearn.utils import shuffle\n",
    "import time\n",
    "import keras\n",
    "from keras.models import Sequential\n",
    "from keras.layers import Dense, Conv2D, Flatten, MaxPooling2D\n",
    "from keras import optimizers\n",
    "from keras import backend as K\n",
    "import matplotlib.pyplot as plt"
   ]
  },
  {
   "cell_type": "code",
   "execution_count": 2,
   "metadata": {},
   "outputs": [],
   "source": [
    "# --------------------- processing data ----------------------\n",
    "# loading data\n",
    "(X_train, y_train), (X_test, y_test) = mnist.load_data()\n",
    "num_classes = 10\n",
    "\n",
    "# form one hot label\n",
    "y_train = to_categorical(y_train, num_classes)\n",
    "y_test = to_categorical(y_test, num_classes)\n",
    "\n",
    "def resize_image(data):\n",
    "    img = Image.fromarray(data.reshape(28,28))\n",
    "    img = img.resize(size=(32,32))\n",
    "    return np.array(img)\n",
    "\n",
    "# preprocessing: resize to 32,32. scale to [0,1]\n",
    "X_train = np.array([resize_image(x) for x in X_train])\n",
    "X_test = np.array([resize_image(x) for x in X_test])\n",
    "\n",
    "\n"
   ]
  },
  {
   "cell_type": "markdown",
   "metadata": {},
   "source": [
    "# Build NN"
   ]
  },
  {
   "cell_type": "code",
   "execution_count": 10,
   "metadata": {},
   "outputs": [],
   "source": [
    "# ------------------- create model -------------------\n",
    "img_rows, img_cols = 32, 32\n",
    "def build_model(regulaizer=None):\n",
    "    model = Sequential()\n",
    "    # add model layers\n",
    "\n",
    "\n",
    "    # 32, 32\n",
    "    channel_multiply = 4\n",
    "\n",
    "    model.add(Conv2D(1 * channel_multiply, (3, 3), activation='relu', padding='same',\n",
    "                     input_shape=(32,32,1), kernel_regularizer=regulaizer))\n",
    "    # 32, 32\n",
    "    model.add(MaxPooling2D(pool_size=(2, 2), strides=2))\n",
    "    # 16, 16\n",
    "    model.add(Conv2D(2 * channel_multiply, (3, 3), activation='relu', padding='same',\n",
    "                     kernel_regularizer=regulaizer))\n",
    "    # 16, 16\n",
    "    model.add(MaxPooling2D(pool_size=(2, 2), strides=2))\n",
    "    # 8, 8\n",
    "    model.add(Conv2D(4 * channel_multiply, (3, 3), activation='relu', padding='same',\n",
    "                     kernel_regularizer=regulaizer))\n",
    "    # 8, 8\n",
    "    model.add(Conv2D(4 * channel_multiply, (3, 3), activation='relu', padding='same',\n",
    "                     kernel_regularizer=regulaizer))\n",
    "    # 8, 8\n",
    "    model.add(MaxPooling2D(pool_size=(2, 2), strides=2))\n",
    "    # 4, 4\n",
    "    model.add(Conv2D(8 * channel_multiply, (3, 3), activation='relu', padding='same',\n",
    "                     kernel_regularizer=regulaizer))\n",
    "    # 4, 4\n",
    "    model.add(Conv2D(8 * channel_multiply, (3, 3), activation='relu', padding='same',\n",
    "                     kernel_regularizer=regulaizer))\n",
    "    # 4, 4\n",
    "    model.add(MaxPooling2D(pool_size=(2, 2), strides=2))\n",
    "    # 2, 2\n",
    "    model.add(Conv2D(8 * channel_multiply, (3, 3), activation='relu', padding='same',\n",
    "                     kernel_regularizer=regulaizer))\n",
    "    # 2, 2\n",
    "    model.add(Conv2D(8 * channel_multiply, (3, 3), activation='relu', padding='same',\n",
    "                     kernel_regularizer=regulaizer))\n",
    "    # 2, 2\n",
    "    model.add(MaxPooling2D(pool_size=(2, 2), strides=2))\n",
    "    # 1, 1\n",
    "    model.add(Flatten())\n",
    "    model.add(Dense(4 * channel_multiply, kernel_regularizer=regulaizer))\n",
    "    model.add(Dense(4 * channel_multiply, kernel_regularizer=regulaizer))\n",
    "    # model.add(Dropout(0.5))\n",
    "    model.add(Dense(num_classes, activation='softmax'))\n",
    "\n",
    "    return(model)"
   ]
  },
  {
   "cell_type": "code",
   "execution_count": 5,
   "metadata": {},
   "outputs": [],
   "source": [
    "# plot\n",
    "def plot_img(Y1, Y2, title):\n",
    "    plt.clf()\n",
    "    plt.plot(Y1)\n",
    "    plt.plot(Y2)\n",
    "    plt.title(title)\n",
    "    plt.ylabel(title)\n",
    "    plt.xlabel('epoch')\n",
    "    plt.legend(['train', 'test'], loc='upper left')\n",
    "    plt.savefig(title + '.png')\n",
    "\n"
   ]
  },
  {
   "cell_type": "code",
   "execution_count": 40,
   "metadata": {},
   "outputs": [
    {
     "name": "stdout",
     "output_type": "stream",
     "text": [
      "Train on 48000 samples, validate on 12000 samples\n",
      "Epoch 1/5\n",
      "48000/48000 [==============================] - 18s 368us/step - loss: 1.7438 - acc: 0.4866 - val_loss: 1.2336 - val_acc: 0.6652\n",
      "Epoch 2/5\n",
      "48000/48000 [==============================] - 17s 365us/step - loss: 1.1130 - acc: 0.7322 - val_loss: 1.0057 - val_acc: 0.7752\n",
      "Epoch 3/5\n",
      "48000/48000 [==============================] - 17s 364us/step - loss: 0.9016 - acc: 0.8181 - val_loss: 0.8370 - val_acc: 0.8421\n",
      "Epoch 4/5\n",
      "48000/48000 [==============================] - 17s 364us/step - loss: 0.7741 - acc: 0.8676 - val_loss: 0.7513 - val_acc: 0.8766\n",
      "Epoch 5/5\n",
      "48000/48000 [==============================] - 18s 365us/step - loss: 0.6984 - acc: 0.8948 - val_loss: 0.6693 - val_acc: 0.9028\n",
      "0.8948125 \t 0.6983858178853989 \t 0.9028333333333334 \t 0.6693470759391784\n"
     ]
    },
    {
     "data": {
      "image/png": "[encoded data removed]",
      "text/plain": [
       "<Figure size 432x288 with 1 Axes>"
      ]
     },
     "metadata": {
      "needs_background": "light"
     },
     "output_type": "display_data"
    }
   ],
   "source": [
    "model = build_model(regulaizer=keras.regularizers.l2(0.01))\n",
    "sgd = optimizers.SGD(lr=1e-8, decay=1e-6, momentum=0.9, nesterov=True)\n",
    "adam = optimizers.Adamax(lr=1e-3, beta_1=0.9, beta_2=0.999, epsilon=None, decay=1e-5)\n",
    "ada = optimizers.Adadelta()\n",
    "n = X_train.shape[0]\n",
    "m = X_test.shape[0]\n",
    "X_train_ = X_train.reshape(n, 32,32,1).astype('float32')\n",
    "X_train_ /= 255.0\n",
    "epoches = 5\n",
    "model.compile(optimizer=adam, loss=keras.losses.categorical_crossentropy, \n",
    "              metrics=['accuracy'])\n",
    "tbCallBack = keras.callbacks.TensorBoard(log_dir='./Graph', histogram_freq=0,\n",
    "                                         write_graph=True, write_images=True)\n",
    "history = model.fit(X_train_, y_train, validation_split=0.2, \n",
    "                    epochs=epoches, batch_size=32, callbacks=[tbCallBack], verbose=True)\n",
    "\n",
    "plot_img(history.history['acc'], history.history['val_acc'], \" L2,Accuracy\")\n",
    "plot_img(history.history['loss'], history.history['val_loss'], \" L2,Loss\")\n",
    "print(history.history['acc'][-1],'\\t',history.history['loss'][-1],'\\t',\n",
    "      history.history['val_acc'][-1],'\\t',history.history['val_loss'][-1])\n"
   ]
  },
  {
   "cell_type": "code",
   "execution_count": 41,
   "metadata": {},
   "outputs": [],
   "source": [
    "from matplotlib import pyplot as plt\n",
    "\n",
    "def rotation_imgs(X, degree):\n",
    "    size = 32,32\n",
    "    ans = []\n",
    "    for x in X:\n",
    "        img = Image.fromarray(x.reshape(size), mode='L')\n",
    "        ans.append(np.array(img.rotate(degree)))\n",
    "    return np.array(ans)\n",
    "\n",
    "from PIL import ImageFilter\n",
    "def blur_imgs(X, radius):\n",
    "    size = 32,32\n",
    "    ans = []\n",
    "    for x in X:\n",
    "        img = Image.fromarray(x.reshape(size), mode='L')\n",
    "        ans.append(np.array(img.filter(ImageFilter.GaussianBlur(radius=radius))))\n",
    "    return np.array(ans)\n",
    "        \n",
    "        \n",
    "        "
   ]
  },
  {
   "cell_type": "code",
   "execution_count": 42,
   "metadata": {},
   "outputs": [
    {
     "name": "stdout",
     "output_type": "stream",
     "text": [
      "[3.7992924186706545, 0.2775]\n",
      "[3.1955089527130127, 0.3597]\n",
      "[2.579982819747925, 0.4596]\n",
      "[2.0395168632507326, 0.564]\n",
      "[1.5114922302246094, 0.6737]\n",
      "[1.1496371662139893, 0.7601]\n",
      "[0.8923972955703735, 0.8344]\n",
      "[0.7411989540100098, 0.8784]\n",
      "[0.7024604517936707, 0.8958]\n",
      "[0.6467202112197876, 0.9124]\n",
      "[0.6931515869140625, 0.8967]\n",
      "[0.7263091891288758, 0.8845]\n",
      "[0.8315751623153687, 0.8489]\n",
      "[0.9979084280014038, 0.7928]\n",
      "[1.2373260677337647, 0.7146]\n",
      "[1.5804570739746093, 0.6135]\n",
      "[2.0130221933364867, 0.5065]\n",
      "[2.506465340423584, 0.4095]\n",
      "[3.062077951812744, 0.3118]\n",
      "[0.6467202112197876, 0.9124]\n",
      "[0.7319940061569213, 0.8884]\n",
      "[1.50779823513031, 0.5525]\n",
      "[3.068116812133789, 0.1643]\n",
      "[4.37379828414917, 0.1135]\n",
      "[4.945068369293213, 0.1135]\n",
      "[5.029890189361573, 0.1135]\n",
      "[4.947265470123291, 0.1135]\n"
     ]
    },
    {
     "data": {
      "image/png": "[encoded data removed]",
      "text/plain": [
       "<Figure size 432x288 with 1 Axes>"
      ]
     },
     "metadata": {
      "needs_background": "light"
     },
     "output_type": "display_data"
    }
   ],
   "source": [
    "\n",
    "X_test[0]\n",
    "plt.imshow(X_test[0])\n",
    "m = 10000\n",
    "\n",
    "for rotation in range(-45,50,5):\n",
    "    X_test_ = rotation_imgs(X_test, rotation).reshape(m, 32,32,1).astype('float32') / 255.0\n",
    "    result = model.evaluate(x=X_test_, y=y_test,verbose=0)\n",
    "    print(result)\n",
    "\n",
    "for blur in range(8):\n",
    "    X_test_ = blur_imgs(X_test, blur).reshape(m, 32,32,1).astype('float32') / 255.0\n",
    "    result = model.evaluate(x=X_test_, y=y_test,verbose=0)\n",
    "    print(result)\n"
   ]
  },
  {
   "cell_type": "code",
   "execution_count": null,
   "metadata": {},
   "outputs": [],
   "source": []
  },
  {
   "cell_type": "code",
   "execution_count": null,
   "metadata": {},
   "outputs": [],
   "source": []
  }
 ],
 "metadata": {
  "kernelspec": {
   "display_name": "Python 3",
   "language": "python",
   "name": "python3"
  },
  "language_info": {
   "codemirror_mode": {
    "name": "ipython",
    "version": 3
   },
   "file_extension": ".py",
   "mimetype": "text/x-python",
   "name": "python",
   "nbconvert_exporter": "python",
   "pygments_lexer": "ipython3",
   "version": "3.6.6"
  }
 },
 "nbformat": 4,
 "nbformat_minor": 2
}
