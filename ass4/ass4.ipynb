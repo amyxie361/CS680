{
 "cells": [
  {
   "cell_type": "markdown",
   "metadata": {},
   "source": [
    "# Load data"
   ]
  },
  {
   "cell_type": "code",
   "execution_count": 69,
   "metadata": {},
   "outputs": [],
   "source": [
    "from keras.datasets import mnist\n",
    "(X_train, y_train), (X_test, y_test) = mnist.load_data()\n",
    "#import matplotlib.pyplot as plt\n",
    "#plt.imshow(X_train[0])\n",
    "num_classes = 10\n",
    "\n",
    "from keras.utils import to_categorical\n",
    "y_train = to_categorical(y_train, num_classes)\n",
    "y_test = to_categorical(y_test, num_classes)\n",
    "#y_train[:10]"
   ]
  },
  {
   "cell_type": "code",
   "execution_count": 70,
   "metadata": {},
   "outputs": [
    {
     "name": "stderr",
     "output_type": "stream",
     "text": [
      "/home/y247xie/.local/lib/python3.5/site-packages/sklearn/utils/validation.py:590: DataConversionWarning: Data with input dtype uint8 was converted to float64 by MinMaxScaler.\n",
      "  warnings.warn(msg, DataConversionWarning)\n"
     ]
    }
   ],
   "source": [
    "from PIL import Image\n",
    "import numpy as np\n",
    "def resize_image(data):\n",
    "    img = Image.fromarray(data.reshape(28,28))\n",
    "    img = img.resize(size=(32,32))\n",
    "    return np.array(img)\n",
    "#from sklearn.preprocessing import MinMaxScaler\n",
    "#scaler = MinMaxScaler()\n",
    "#scaler = scaler.fit(X_train.reshape(60000,28*28))\n",
    "#X_train = scaler.transform(X_train.reshape(60000,28*28))\n",
    "#X_test = scaler.transform(X_test.reshape(10000,28*28))\n",
    "X_train = np.array([resize_image(x) for x in X_train]).astype('float32')\n",
    "X_test = np.array([resize_image(x) for x in X_test]).astype('float32')\n",
    "X_train /= 255.0\n",
    "X_test /= 255.0\n"
   ]
  },
  {
   "cell_type": "code",
   "execution_count": 71,
   "metadata": {},
   "outputs": [],
   "source": [
    "from sklearn.utils import shuffle\n",
    "X_train, y_train = shuffle(X_train, y_train, random_state=13)"
   ]
  },
  {
   "cell_type": "markdown",
   "metadata": {},
   "source": [
    "# Build NN"
   ]
  },
  {
   "cell_type": "code",
   "execution_count": 58,
   "metadata": {},
   "outputs": [],
   "source": [
    "X_train_full = X_train\n",
    "X_test_full = X_test\n",
    "y_train_full = y_train\n",
    "y_test_full = y_test\n",
    "\n",
    "X_train = X_train[:1000]\n",
    "y_train = y_train[:1000]\n",
    "X_test = X_test[:100]\n",
    "y_test = y_test[:100]"
   ]
  },
  {
   "cell_type": "code",
   "execution_count": 93,
   "metadata": {},
   "outputs": [
    {
     "name": "stdout",
     "output_type": "stream",
     "text": [
      "channels_last\n",
      "Train on 60000 samples, validate on 10000 samples\n",
      "Epoch 1/3\n",
      "60000/60000 [==============================] - 49s 815us/step - loss: 0.3006 - acc: 0.9025 - val_loss: 0.0879 - val_acc: 0.9739\n",
      "Epoch 2/3\n",
      "60000/60000 [==============================] - 45s 752us/step - loss: 0.0922 - acc: 0.9716 - val_loss: 0.0611 - val_acc: 0.9804\n",
      "Epoch 3/3\n",
      "60000/60000 [==============================] - 42s 705us/step - loss: 0.0618 - acc: 0.9806 - val_loss: 0.0470 - val_acc: 0.9852\n",
      "<built-in method keys of dict object at 0x7f1ed70e6688>\n",
      "2.448915096124013\n"
     ]
    }
   ],
   "source": [
    "import time\n",
    "import keras\n",
    "from keras.models import Sequential\n",
    "from keras.layers import Dense, Conv2D, Flatten,MaxPooling2D\n",
    "from keras import optimizers\n",
    "from keras import backend as K\n",
    "#create model\n",
    "start_time = time.time()\n",
    "model = Sequential()\n",
    "#add model layers\n",
    "img_rows, img_cols = 32,32\n",
    "print(K.image_data_format())\n",
    "if K.image_data_format() == 'channels_first':\n",
    "    X_train = X_train.reshape(X_train.shape[0], 1, img_rows, img_cols)\n",
    "    X_test = X_test.reshape(X_test.shape[0], 1, img_rows, img_cols)\n",
    "    input_shape = (1, img_rows, img_cols)\n",
    "else:\n",
    "    X_train = X_train.reshape(X_train.shape[0], img_rows, img_cols, 1)\n",
    "    X_test = X_test.reshape(X_test.shape[0], img_rows, img_cols, 1)\n",
    "    input_shape = (img_rows, img_cols, 1)\n",
    "    \n",
    "#keras.initializers.RandomNormal(mean=0.0, stddev=0.05, seed=13)\n",
    "#keras.initializers.RandomUniform(minval=-0.05, maxval=0.05, seed=13)\n",
    "# 32，32\n",
    "channel_multiply = 4\n",
    "model.add(Conv2D(1 * channel_multiply, (3,3), activation='relu',\n",
    "                 input_shape=input_shape, kernel_initializer='glorot_uniform'))\n",
    "# 30，30\n",
    "model.add(Conv2D(2 * channel_multiply, (3,3), activation='relu', kernel_initializer='glorot_uniform'))\n",
    "# 28, 28\n",
    "model.add(Conv2D(4 * channel_multiply, (3,3), activation='relu', padding='same', kernel_initializer='glorot_uniform'))\n",
    "# 28, 28\n",
    "model.add(Conv2D(4 * channel_multiply, (3,3), activation='relu', kernel_initializer='glorot_uniform'))\n",
    "# 26, 26\n",
    "model.add(MaxPooling2D(pool_size=(2, 2), strides=2))\n",
    "# 13，13\n",
    "model.add(Conv2D(8 * channel_multiply, (3,3), activation='relu', padding='same',kernel_initializer='glorot_uniform'))\n",
    "# 13, 13\n",
    "model.add(Conv2D(8 * channel_multiply, (3,3), activation='relu', kernel_initializer='glorot_uniform'))\n",
    "# 11, 11\n",
    "model.add(MaxPooling2D(pool_size=(2, 2), strides=2))\n",
    "# 6, 6\n",
    "model.add(Conv2D(8 * channel_multiply, (3,3), activation='relu', padding='same',kernel_initializer='glorot_uniform'))\n",
    "# 6, 6 \n",
    "model.add(Conv2D(8 * channel_multiply, (3,3), activation='relu',kernel_initializer='glorot_uniform'))\n",
    "# 4, 4 \n",
    "model.add(MaxPooling2D(pool_size=(2, 2), strides=2))\n",
    "# 2，2\n",
    "model.add(Flatten())\n",
    "model.add(Dense(128))\n",
    "model.add(Dense(128))\n",
    "#model.add(Dropout(0.5))\n",
    "model.add(Dense(num_classes, activation='softmax'))\n",
    "#compile model using accuracy to measure model performance\n",
    "#sgd = optimizers.SGD(lr=1e-8, decay=1e-6, momentum=0.9, nesterov=True)\n",
    "adam = optimizers.Adamax(lr=1e-3, beta_1=0.9, beta_2=0.999, epsilon=None, decay=1e-5)\n",
    "ada = optimizers.Adadelta()\n",
    "model.compile(optimizer=adam, loss=keras.losses.categorical_crossentropy, metrics=['accuracy'])\n",
    "tbCallBack = keras.callbacks.TensorBoard(log_dir='./Graph', histogram_freq=0, \n",
    "                                         write_graph=True, write_images=True)\n",
    "model.fit(X_train, y_train, validation_data=(X_test, y_test), epochs=3, batch_size=32,callbacks=[tbCallBack])\n",
    "print(history1.history.keys)\n",
    "#model.predict(X_test[:4])\n",
    "\n",
    "end_time = time.time()\n",
    "print((end_time-start_time)/60)"
   ]
  },
  {
   "cell_type": "code",
   "execution_count": 84,
   "metadata": {},
   "outputs": [
    {
     "name": "stdout",
     "output_type": "stream",
     "text": [
      "Train on 60000 samples, validate on 10000 samples\n",
      "Epoch 1/3\n",
      "60000/60000 [==============================] - 44s 731us/step - loss: 0.0454 - acc: 0.9863 - val_loss: 0.0396 - val_acc: 0.9873\n",
      "Epoch 2/3\n",
      "60000/60000 [==============================] - 41s 690us/step - loss: 0.0363 - acc: 0.9885 - val_loss: 0.0336 - val_acc: 0.9896\n",
      "Epoch 3/3\n",
      "60000/60000 [==============================] - 41s 690us/step - loss: 0.0303 - acc: 0.9906 - val_loss: 0.0331 - val_acc: 0.9906\n",
      "<built-in method keys of dict object at 0x7f1ececf6f48>\n"
     ]
    }
   ],
   "source": [
    "model.compile(optimizer=adam, loss=keras.losses.categorical_crossentropy, metrics=['accuracy'])\n",
    "history1 = model.fit(X_train, y_train, validation_data=(X_test, y_test), epochs=3, batch_size=64)"
   ]
  },
  {
   "cell_type": "code",
   "execution_count": 85,
   "metadata": {},
   "outputs": [
    {
     "name": "stdout",
     "output_type": "stream",
     "text": [
      "Train on 60000 samples, validate on 10000 samples\n",
      "Epoch 1/3\n",
      "60000/60000 [==============================] - 45s 742us/step - loss: 0.0248 - acc: 0.9921 - val_loss: 0.0284 - val_acc: 0.9917\n",
      "Epoch 2/3\n",
      "60000/60000 [==============================] - 42s 695us/step - loss: 0.0202 - acc: 0.9938 - val_loss: 0.0300 - val_acc: 0.9906\n",
      "Epoch 3/3\n",
      "60000/60000 [==============================] - 42s 696us/step - loss: 0.0178 - acc: 0.9942 - val_loss: 0.0297 - val_acc: 0.9907\n",
      "<built-in method keys of dict object at 0x7f1ececf6f48>\n"
     ]
    }
   ],
   "source": [
    "model.compile(optimizer=adam, loss=keras.losses.categorical_crossentropy, metrics=['accuracy'])\n",
    "history1 = model.fit(X_train, y_train, validation_data=(X_test, y_test), epochs=3, batch_size=128)"
   ]
  },
  {
   "cell_type": "code",
   "execution_count": 89,
   "metadata": {},
   "outputs": [
    {
     "ename": "NameError",
     "evalue": "name 'callback_tensorboard' is not defined",
     "output_type": "error",
     "traceback": [
      "\u001b[0;31m---------------------------------------------------------------------------\u001b[0m",
      "\u001b[0;31mNameError\u001b[0m                                 Traceback (most recent call last)",
      "\u001b[0;32m<ipython-input-89-7a8f047fddb0>\u001b[0m in \u001b[0;36m<module>\u001b[0;34m\u001b[0m\n\u001b[1;32m      1\u001b[0m \u001b[0msgd\u001b[0m \u001b[0;34m=\u001b[0m \u001b[0moptimizers\u001b[0m\u001b[0;34m.\u001b[0m\u001b[0mSGD\u001b[0m\u001b[0;34m(\u001b[0m\u001b[0mlr\u001b[0m\u001b[0;34m=\u001b[0m\u001b[0;36m1e-2\u001b[0m\u001b[0;34m,\u001b[0m \u001b[0mdecay\u001b[0m\u001b[0;34m=\u001b[0m\u001b[0;36m1e-3\u001b[0m\u001b[0;34m,\u001b[0m \u001b[0mmomentum\u001b[0m\u001b[0;34m=\u001b[0m\u001b[0;36m0.9\u001b[0m\u001b[0;34m,\u001b[0m \u001b[0mnesterov\u001b[0m\u001b[0;34m=\u001b[0m\u001b[0;32mTrue\u001b[0m\u001b[0;34m)\u001b[0m\u001b[0;34m\u001b[0m\u001b[0m\n\u001b[1;32m      2\u001b[0m \u001b[0mmodel\u001b[0m\u001b[0;34m.\u001b[0m\u001b[0mcompile\u001b[0m\u001b[0;34m(\u001b[0m\u001b[0moptimizer\u001b[0m\u001b[0;34m=\u001b[0m\u001b[0msgd\u001b[0m\u001b[0;34m,\u001b[0m \u001b[0mloss\u001b[0m\u001b[0;34m=\u001b[0m\u001b[0mkeras\u001b[0m\u001b[0;34m.\u001b[0m\u001b[0mlosses\u001b[0m\u001b[0;34m.\u001b[0m\u001b[0mcategorical_crossentropy\u001b[0m\u001b[0;34m,\u001b[0m \u001b[0mmetrics\u001b[0m\u001b[0;34m=\u001b[0m\u001b[0;34m[\u001b[0m\u001b[0;34m'accuracy'\u001b[0m\u001b[0;34m]\u001b[0m\u001b[0;34m)\u001b[0m\u001b[0;34m\u001b[0m\u001b[0m\n\u001b[0;32m----> 3\u001b[0;31m \u001b[0mhistory1\u001b[0m \u001b[0;34m=\u001b[0m \u001b[0mmodel\u001b[0m\u001b[0;34m.\u001b[0m\u001b[0mfit\u001b[0m\u001b[0;34m(\u001b[0m\u001b[0mX_train\u001b[0m\u001b[0;34m,\u001b[0m \u001b[0my_train\u001b[0m\u001b[0;34m,\u001b[0m \u001b[0mvalidation_data\u001b[0m\u001b[0;34m=\u001b[0m\u001b[0;34m(\u001b[0m\u001b[0mX_test\u001b[0m\u001b[0;34m,\u001b[0m \u001b[0my_test\u001b[0m\u001b[0;34m)\u001b[0m\u001b[0;34m,\u001b[0m\u001b[0mcallbacks\u001b[0m\u001b[0;34m=\u001b[0m\u001b[0mcallback_tensorboard\u001b[0m\u001b[0;34m(\u001b[0m\u001b[0;34m\"logs/run_a\"\u001b[0m\u001b[0;34m)\u001b[0m\u001b[0;34m,\u001b[0m \u001b[0mepochs\u001b[0m\u001b[0;34m=\u001b[0m\u001b[0;36m3\u001b[0m\u001b[0;34m,\u001b[0m \u001b[0mbatch_size\u001b[0m\u001b[0;34m=\u001b[0m\u001b[0;36m64\u001b[0m\u001b[0;34m)\u001b[0m\u001b[0;34m\u001b[0m\u001b[0m\n\u001b[0m",
      "\u001b[0;31mNameError\u001b[0m: name 'callback_tensorboard' is not defined"
     ]
    }
   ],
   "source": [
    "sgd = optimizers.SGD(lr=1e-2, decay=1e-3, momentum=0.9, nesterov=True)\n",
    "model.compile(optimizer=sgd, loss=keras.losses.categorical_crossentropy, metrics=['accuracy'])\n",
    "history1 = model.fit(X_train, y_train, validation_data=(X_test, y_test), epochs=3, batch_size=64)"
   ]
  },
  {
   "cell_type": "code",
   "execution_count": 88,
   "metadata": {},
   "outputs": [
    {
     "name": "stdout",
     "output_type": "stream",
     "text": [
      "dict_keys(['loss', 'val_loss', 'val_acc', 'acc'])\n"
     ]
    },
    {
     "data": {
      "image/png": "[encoded data removed]",
      "text/plain": [
       "<Figure size 432x288 with 1 Axes>"
      ]
     },
     "metadata": {
      "needs_background": "light"
     },
     "output_type": "display_data"
    }
   ],
   "source": [
    "print(history.history.keys())\n",
    "import matplotlib.pyplot as plt\n",
    "plt.plot(history.history['acc'])\n",
    "plt.plot(history.history['val_acc'])\n",
    "plt.title('model accuracy')\n",
    "plt.ylabel('accuracy')\n",
    "plt.xlabel('epoch')\n",
    "plt.legend(['train', 'test'], loc='upper left')\n",
    "plt.show()\n"
   ]
  },
  {
   "cell_type": "code",
   "execution_count": null,
   "metadata": {},
   "outputs": [],
   "source": []
  }
 ],
 "metadata": {
  "kernelspec": {
   "display_name": "Python 3",
   "language": "python",
   "name": "python3"
  },
  "language_info": {
   "codemirror_mode": {
    "name": "ipython",
    "version": 3
   },
   "file_extension": ".py",
   "mimetype": "text/x-python",
   "name": "python",
   "nbconvert_exporter": "python",
   "pygments_lexer": "ipython3",
   "version": "3.5.2"
  }
 },
 "nbformat": 4,
 "nbformat_minor": 2
}
