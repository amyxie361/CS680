{
 "cells": [
  {
   "cell_type": "markdown",
   "metadata": {},
   "source": [
    "# Load data"
   ]
  },
  {
   "cell_type": "code",
   "execution_count": 7,
   "metadata": {},
   "outputs": [],
   "source": [
    "from keras.datasets import mnist\n",
    "from PIL import Image\n",
    "import numpy as np\n",
    "from keras.utils import to_categorical\n",
    "from sklearn.utils import shuffle\n",
    "import time\n",
    "import keras\n",
    "from keras.models import Sequential\n",
    "from keras.layers import Dense, Conv2D, Flatten, MaxPooling2D\n",
    "from keras import optimizers\n",
    "from keras import backend as K\n",
    "import matplotlib.pyplot as plt"
   ]
  },
  {
   "cell_type": "code",
   "execution_count": 23,
   "metadata": {},
   "outputs": [],
   "source": [
    "# --------------------- processing data ----------------------\n",
    "# loading data\n",
    "(X_train, y_train), (X_test, y_test) = mnist.load_data()\n",
    "num_classes = 10\n",
    "\n",
    "# form one hot label\n",
    "y_train = to_categorical(y_train, num_classes)\n",
    "y_test = to_categorical(y_test, num_classes)\n",
    "\n",
    "def resize_image(data):\n",
    "    img = Image.fromarray(data.reshape(28,28))\n",
    "    img = img.resize(size=(32,32))\n",
    "    return np.array(img)\n",
    "\n",
    "# preprocessing: resize to 32,32. scale to [0,1]\n",
    "X_train = np.array([resize_image(x) for x in X_train])\n",
    "X_test = np.array([resize_image(x) for x in X_test])\n",
    "\n",
    "\n"
   ]
  },
  {
   "cell_type": "code",
   "execution_count": 37,
   "metadata": {},
   "outputs": [],
   "source": [
    "def rotation_imgs(X, degree):\n",
    "    size = 32,32\n",
    "    ans = []\n",
    "    for x in X:\n",
    "        img = Image.fromarray(x.reshape(size), mode='L')\n",
    "        #print(img.mode)\n",
    "        img.rotate(degree)\n",
    "        ans.append(np.array(img))\n",
    "        #print(np.array(img).shape)\n",
    "    return np.array(ans)\n",
    "\n",
    "from PIL import ImageFilter\n",
    "\n",
    "def blur_imgs(X, radius):\n",
    "    size = 32,32\n",
    "    ans = []\n",
    "    for x in X:\n",
    "        img = Image.fromarray(x.reshape(size), mode='L')\n",
    "        #print(img.mode)\n",
    "        img.filter(ImageFilter.GaussianBlur(radius=radius))\n",
    "        ans.append(np.array(img))\n",
    "        #print(np.array(img).shape)\n",
    "    return np.array(ans)\n",
    "        \n",
    "        \n",
    "        "
   ]
  },
  {
   "cell_type": "markdown",
   "metadata": {},
   "source": [
    "# Build NN"
   ]
  },
  {
   "cell_type": "code",
   "execution_count": 10,
   "metadata": {},
   "outputs": [
    {
     "name": "stdout",
     "output_type": "stream",
     "text": [
      "channels_last\n"
     ]
    }
   ],
   "source": [
    "# ------------------- create model -------------------\n",
    "start_time = time.time()\n",
    "model = Sequential()\n",
    "# add model layers\n",
    "img_rows, img_cols = 32, 32\n",
    "print(K.image_data_format())\n",
    "if K.image_data_format() == 'channels_first':\n",
    "    X_train = X_train.reshape(X_train.shape[0], 1, img_rows, img_cols)\n",
    "    X_test = X_test.reshape(X_test.shape[0], 1, img_rows, img_cols)\n",
    "    input_shape = (1, img_rows, img_cols)\n",
    "else:\n",
    "    X_train = X_train.reshape(X_train.shape[0], img_rows, img_cols, 1)\n",
    "    X_test = X_test.reshape(X_test.shape[0], img_rows, img_cols, 1)\n",
    "    input_shape = (img_rows, img_cols, 1)\n",
    "\n",
    "# 32, 32\n",
    "channel_multiply = 4\n",
    "\n",
    "model.add(Conv2D(1 * channel_multiply, (3, 3), activation='relu', padding='same',\n",
    "                 input_shape=input_shape))\n",
    "# 32, 32\n",
    "model.add(MaxPooling2D(pool_size=(2, 2), strides=2))\n",
    "# 16, 16\n",
    "model.add(Conv2D(2 * channel_multiply, (3, 3), activation='relu', padding='same'))\n",
    "# 16, 16\n",
    "model.add(MaxPooling2D(pool_size=(2, 2), strides=2))\n",
    "# 8, 8\n",
    "model.add(Conv2D(4 * channel_multiply, (3, 3), activation='relu', padding='same'))\n",
    "# 8, 8\n",
    "model.add(Conv2D(4 * channel_multiply, (3, 3), activation='relu', padding='same'))\n",
    "# 8, 8\n",
    "model.add(MaxPooling2D(pool_size=(2, 2), strides=2))\n",
    "# 4, 4\n",
    "model.add(Conv2D(8 * channel_multiply, (3, 3), activation='relu', padding='same'))\n",
    "# 4, 4\n",
    "model.add(Conv2D(8 * channel_multiply, (3, 3), activation='relu', padding='same'))\n",
    "# 4, 4\n",
    "model.add(MaxPooling2D(pool_size=(2, 2), strides=2))\n",
    "# 2, 2\n",
    "model.add(Conv2D(8 * channel_multiply, (3, 3), activation='relu', padding='same'))\n",
    "# 2, 2\n",
    "model.add(Conv2D(8 * channel_multiply, (3, 3), activation='relu', padding='same'))\n",
    "# 2, 2\n",
    "model.add(MaxPooling2D(pool_size=(2, 2), strides=2))\n",
    "# 1, 1\n",
    "model.add(Flatten())\n",
    "model.add(Dense(4 * channel_multiply))\n",
    "model.add(Dense(4 * channel_multiply))\n",
    "# model.add(Dropout(0.5))\n",
    "model.add(Dense(num_classes, activation='softmax'))\n",
    "\n",
    "sgd = optimizers.SGD(lr=1e-8, decay=1e-6, momentum=0.9, nesterov=True)\n",
    "adam = optimizers.Adamax(lr=1e-3, beta_1=0.9, beta_2=0.999, epsilon=None, decay=1e-5)\n",
    "ada = optimizers.Adadelta()"
   ]
  },
  {
   "cell_type": "code",
   "execution_count": 38,
   "metadata": {},
   "outputs": [],
   "source": [
    "# plot\n",
    "def plot_img(Y1, Y2, title):\n",
    "    plt.clf()\n",
    "    plt.plot(Y1)\n",
    "    plt.plot(Y2)\n",
    "    plt.title(title)\n",
    "    plt.ylabel(title)\n",
    "    plt.xlabel('epoch')\n",
    "    plt.legend(['train', 'test'], loc='upper left')\n",
    "    plt.savefig(title + '.png')\n",
    "\n"
   ]
  },
  {
   "cell_type": "code",
   "execution_count": 12,
   "metadata": {},
   "outputs": [],
   "source": [
    "X_train, y_train = shuffle(X_train, y_train, random_state=13)"
   ]
  },
  {
   "cell_type": "code",
   "execution_count": 44,
   "metadata": {},
   "outputs": [],
   "source": [
    "def train(rotation=0, blur=0, epoches=5):\n",
    "    n = X_train.shape[0]\n",
    "    print(X_train.shape)\n",
    "    print(X_test.shape)\n",
    "    m = X_test.shape[0]\n",
    "    X_train_ = blur_imgs(rotation_imgs(X_train, rotation),blur).reshape(n, 32,32,1).astype('float32')\n",
    "    X_test_ = blur_imgs(rotation_imgs(X_test, rotation),blur).reshape(m, 32,32,1).astype('float32')\n",
    "    \n",
    "    X_train_ /= 255.0\n",
    "    X_test_ /= 255.0\n",
    "\n",
    "    model.compile(optimizer=adam, loss=keras.losses.categorical_crossentropy, \n",
    "                  metrics=['accuracy'])\n",
    "    tbCallBack = keras.callbacks.TensorBoard(log_dir='./Graph', histogram_freq=0,\n",
    "                                         write_graph=True, write_images=True)\n",
    "    history = model.fit(X_train_, y_train, validation_data=(X_test_, y_test), \n",
    "                        epochs=epoches, batch_size=32, callbacks=[tbCallBack])\n",
    "    plot_img(history.history['acc'], history.history['val_acc'], \n",
    "             \"rotation_\"+str(rotation) + \", blur_\" + str(blur)+\" Accuracy\")\n",
    "    plot_img(history.history['loss'], history.history['val_loss'], \n",
    "             \"rotation_\"+str(rotation) + \", blur_\" + str(blur)+\" Loss\")\n",
    "\n"
   ]
  },
  {
   "cell_type": "code",
   "execution_count": null,
   "metadata": {},
   "outputs": [
    {
     "name": "stdout",
     "output_type": "stream",
     "text": [
      "(60000, 32, 32)\n",
      "(10000, 32, 32)\n",
      "Train on 60000 samples, validate on 10000 samples\n",
      "Epoch 1/5\n",
      "60000/60000 [==============================] - 21s 351us/step - loss: 0.4815 - acc: 0.8470 - val_loss: 0.1594 - val_acc: 0.9503\n",
      "Epoch 2/5\n",
      "60000/60000 [==============================] - 21s 352us/step - loss: 0.1509 - acc: 0.9537 - val_loss: 0.0984 - val_acc: 0.9690\n",
      "Epoch 3/5\n",
      "60000/60000 [==============================] - 22s 364us/step - loss: 0.1042 - acc: 0.9682 - val_loss: 0.0767 - val_acc: 0.9751\n",
      "Epoch 4/5\n",
      "60000/60000 [==============================] - 21s 358us/step - loss: 0.0808 - acc: 0.9753 - val_loss: 0.0766 - val_acc: 0.9730\n",
      "Epoch 5/5\n",
      "60000/60000 [==============================] - 21s 352us/step - loss: 0.0673 - acc: 0.9790 - val_loss: 0.0594 - val_acc: 0.9811\n",
      "(60000, 32, 32)\n",
      "(10000, 32, 32)\n",
      "Train on 60000 samples, validate on 10000 samples\n",
      "Epoch 1/5\n",
      "54656/60000 [==========================>...] - ETA: 1s - loss: 0.0573 - acc: 0.9817"
     ]
    }
   ],
   "source": [
    "for rotation in range(-45,45,5):\n",
    "    train(rotation, 0, 5)\n",
    "for blur in range(7):\n",
    "    train(0, blur, 5)"
   ]
  },
  {
   "cell_type": "code",
   "execution_count": null,
   "metadata": {},
   "outputs": [],
   "source": [
    "# regularizer"
   ]
  },
  {
   "cell_type": "code",
   "execution_count": null,
   "metadata": {},
   "outputs": [],
   "source": [
    "\n",
    "kernel_regularizer=regularizers.l2(0.01)"
   ]
  },
  {
   "cell_type": "code",
   "execution_count": null,
   "metadata": {},
   "outputs": [],
   "source": [
    "# data augmentation"
   ]
  }
 ],
 "metadata": {
  "kernelspec": {
   "display_name": "Python 3",
   "language": "python",
   "name": "python3"
  },
  "language_info": {
   "codemirror_mode": {
    "name": "ipython",
    "version": 3
   },
   "file_extension": ".py",
   "mimetype": "text/x-python",
   "name": "python",
   "nbconvert_exporter": "python",
   "pygments_lexer": "ipython3",
   "version": "3.6.6"
  }
 },
 "nbformat": 4,
 "nbformat_minor": 2
}
