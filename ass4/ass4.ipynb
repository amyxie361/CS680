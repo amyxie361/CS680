{
 "cells": [
  {
   "cell_type": "markdown",
   "metadata": {},
   "source": [
    "# Load data"
   ]
  },
  {
   "cell_type": "code",
   "execution_count": 1,
   "metadata": {},
   "outputs": [
    {
     "name": "stderr",
     "output_type": "stream",
     "text": [
      "Using TensorFlow backend.\n"
     ]
    }
   ],
   "source": [
    "from keras.datasets import mnist\n",
    "from PIL import Image\n",
    "import numpy as np\n",
    "from keras.utils import to_categorical\n",
    "from sklearn.utils import shuffle\n",
    "import time\n",
    "import keras\n",
    "from keras.models import Sequential\n",
    "from keras.layers import Dense, Conv2D, Flatten, MaxPooling2D\n",
    "from keras import optimizers\n",
    "from keras import backend as K\n",
    "import matplotlib.pyplot as plt"
   ]
  },
  {
   "cell_type": "code",
   "execution_count": 2,
   "metadata": {},
   "outputs": [],
   "source": [
    "# --------------------- processing data ----------------------\n",
    "# loading data\n",
    "(X_train, y_train), (X_test, y_test) = mnist.load_data()\n",
    "num_classes = 10\n",
    "\n",
    "# form one hot label\n",
    "y_train = to_categorical(y_train, num_classes)\n",
    "y_test = to_categorical(y_test, num_classes)\n",
    "\n",
    "def resize_image(data):\n",
    "    img = Image.fromarray(data.reshape(28,28))\n",
    "    img = img.resize(size=(32,32))\n",
    "    return np.array(img)\n",
    "\n",
    "# preprocessing: resize to 32,32. scale to [0,1]\n",
    "X_train = np.array([resize_image(x) for x in X_train])\n",
    "X_test = np.array([resize_image(x) for x in X_test])\n",
    "\n",
    "\n"
   ]
  },
  {
   "cell_type": "code",
   "execution_count": 3,
   "metadata": {},
   "outputs": [],
   "source": [
    "def rotation_imgs(X, degree):\n",
    "    size = 32,32\n",
    "    ans = []\n",
    "    for x in X:\n",
    "        img = Image.fromarray(x.reshape(size), mode='L')\n",
    "        #print(img.mode)\n",
    "        img.rotate(degree)\n",
    "        ans.append(np.array(img))\n",
    "        #print(np.array(img).shape)\n",
    "    return np.array(ans)\n",
    "\n",
    "from PIL import ImageFilter\n",
    "\n",
    "def blur_imgs(X, radius):\n",
    "    size = 32,32\n",
    "    ans = []\n",
    "    for x in X:\n",
    "        img = Image.fromarray(x.reshape(size), mode='L')\n",
    "        #print(img.mode)\n",
    "        img.filter(ImageFilter.GaussianBlur(radius=radius))\n",
    "        ans.append(np.array(img))\n",
    "        #print(np.array(img).shape)\n",
    "    return np.array(ans)\n",
    "        \n",
    "        \n",
    "        "
   ]
  },
  {
   "cell_type": "markdown",
   "metadata": {},
   "source": [
    "# Build NN"
   ]
  },
  {
   "cell_type": "code",
   "execution_count": 15,
   "metadata": {},
   "outputs": [],
   "source": [
    "# ------------------- create model -------------------\n",
    "img_rows, img_cols = 32, 32\n",
    "def build_model(regulaizer=None):\n",
    "    model = Sequential()\n",
    "    # add model layers\n",
    "\n",
    "\n",
    "    # 32, 32\n",
    "    channel_multiply = 4\n",
    "\n",
    "    model.add(Conv2D(1 * channel_multiply, (3, 3), activation='relu', padding='same',\n",
    "                     input_shape=input_shape, kernel_regularizer=regulaizer))\n",
    "    # 32, 32\n",
    "    model.add(MaxPooling2D(pool_size=(2, 2), strides=2))\n",
    "    # 16, 16\n",
    "    model.add(Conv2D(2 * channel_multiply, (3, 3), activation='relu', padding='same',\n",
    "                     kernel_regularizer=regulaizer))\n",
    "    # 16, 16\n",
    "    model.add(MaxPooling2D(pool_size=(2, 2), strides=2))\n",
    "    # 8, 8\n",
    "    model.add(Conv2D(4 * channel_multiply, (3, 3), activation='relu', padding='same',\n",
    "                     kernel_regularizer=regulaizer))\n",
    "    # 8, 8\n",
    "    model.add(Conv2D(4 * channel_multiply, (3, 3), activation='relu', padding='same',\n",
    "                     kernel_regularizer=regulaizer))\n",
    "    # 8, 8\n",
    "    model.add(MaxPooling2D(pool_size=(2, 2), strides=2))\n",
    "    # 4, 4\n",
    "    model.add(Conv2D(8 * channel_multiply, (3, 3), activation='relu', padding='same',\n",
    "                     kernel_regularizer=regulaizer))\n",
    "    # 4, 4\n",
    "    model.add(Conv2D(8 * channel_multiply, (3, 3), activation='relu', padding='same',\n",
    "                     kernel_regularizer=regulaizer))\n",
    "    # 4, 4\n",
    "    model.add(MaxPooling2D(pool_size=(2, 2), strides=2))\n",
    "    # 2, 2\n",
    "    model.add(Conv2D(8 * channel_multiply, (3, 3), activation='relu', padding='same',\n",
    "                     kernel_regularizer=regulaizer))\n",
    "    # 2, 2\n",
    "    model.add(Conv2D(8 * channel_multiply, (3, 3), activation='relu', padding='same',\n",
    "                     kernel_regularizer=regulaizer))\n",
    "    # 2, 2\n",
    "    model.add(MaxPooling2D(pool_size=(2, 2), strides=2))\n",
    "    # 1, 1\n",
    "    model.add(Flatten())\n",
    "    model.add(Dense(4 * channel_multiply, kernel_regularizer=regulaizer))\n",
    "    model.add(Dense(4 * channel_multiply, kernel_regularizer=regulaizer))\n",
    "    # model.add(Dropout(0.5))\n",
    "    model.add(Dense(num_classes, activation='softmax'))\n",
    "\n",
    "    return(model)"
   ]
  },
  {
   "cell_type": "code",
   "execution_count": 5,
   "metadata": {},
   "outputs": [],
   "source": [
    "# plot\n",
    "def plot_img(Y1, Y2, title):\n",
    "    plt.clf()\n",
    "    plt.plot(Y1)\n",
    "    plt.plot(Y2)\n",
    "    plt.title(title)\n",
    "    plt.ylabel(title)\n",
    "    plt.xlabel('epoch')\n",
    "    plt.legend(['train', 'test'], loc='upper left')\n",
    "    plt.savefig(title + '.png')\n",
    "\n"
   ]
  },
  {
   "cell_type": "code",
   "execution_count": 6,
   "metadata": {},
   "outputs": [],
   "source": [
    "X_train, y_train = shuffle(X_train, y_train, random_state=13)"
   ]
  },
  {
   "cell_type": "code",
   "execution_count": 21,
   "metadata": {},
   "outputs": [],
   "source": [
    "def train(model,rotation=0, blur=0, epoches=5, name=\"\"):\n",
    "    sgd = optimizers.SGD(lr=1e-8, decay=1e-6, momentum=0.9, nesterov=True)\n",
    "    adam = optimizers.Adamax(lr=1e-3, beta_1=0.9, beta_2=0.999, epsilon=None, decay=1e-5)\n",
    "    ada = optimizers.Adadelta()\n",
    "    n = X_train.shape[0]\n",
    "    #print(X_train.shape)\n",
    "    #print(X_test.shape)\n",
    "    m = X_test.shape[0]\n",
    "    X_train_ = X_train.reshape(n, 32,32,1).astype('float32')\n",
    "    X_test_ = X_test\n",
    "    if rotation:\n",
    "        X_test_ = rotation_imgs(X_test_, rotation)\n",
    "    if blur:\n",
    "        X_test_ = blur_imgs(X_test_, blur)\n",
    "    X_test_ = X_test_.reshape(m, 32,32,1).astype('float32')\n",
    "    \n",
    "    X_train_ /= 255.0\n",
    "    X_test_ /= 255.0\n",
    "\n",
    "    model.compile(optimizer=adam, loss=keras.losses.categorical_crossentropy, \n",
    "                  metrics=['accuracy'])\n",
    "    tbCallBack = keras.callbacks.TensorBoard(log_dir='./Graph', histogram_freq=0,\n",
    "                                         write_graph=True, write_images=True)\n",
    "    history = model.fit(X_train_, y_train, validation_data=(X_test_, y_test), \n",
    "                        epochs=epoches, batch_size=32, callbacks=[tbCallBack], verbose=False)\n",
    "    plot_img(history.history['acc'], history.history['val_acc'], \n",
    "             name+\"rotation_\"+str(rotation) + \", blur_\" + str(blur)+\" Accuracy\")\n",
    "    plot_img(history.history['loss'], history.history['val_loss'], \n",
    "             name+\"rotation_\"+str(rotation) + \", blur_\" + str(blur)+\" Loss\")\n",
    "    print(history.history['acc'][-1],'\\t',history.history['loss'][-1],'\\t',\n",
    "          history.history['val_acc'][-1],'\\t',history.history['val_loss'][-1])\n",
    "\n"
   ]
  },
  {
   "cell_type": "code",
   "execution_count": null,
   "metadata": {},
   "outputs": [],
   "source": [
    "for rotation in range(-45,45,5):\n",
    "    train(build_model(),rotation, 0, 3)\n",
    "for blur in range(7):\n",
    "    train(build_model(),0, blur, 3)"
   ]
  },
  {
   "cell_type": "markdown",
   "metadata": {},
   "source": [
    "# regularizer"
   ]
  },
  {
   "cell_type": "code",
   "execution_count": null,
   "metadata": {},
   "outputs": [],
   "source": [
    "for rotation in range(-45,45,5):\n",
    "    train(build_model(keras.regularizers.l2(0.01)), rotation, 0, 3, 'L2_')\n",
    "for blur in range(7):\n",
    "    train(build_model(keras.regularizers.l2(0.01)), 0, blur, 3, \"L2_\")"
   ]
  },
  {
   "cell_type": "code",
   "execution_count": null,
   "metadata": {},
   "outputs": [],
   "source": [
    "# data augmentation"
   ]
  },
  {
   "cell_type": "code",
   "execution_count": null,
   "metadata": {},
   "outputs": [],
   "source": []
  },
  {
   "cell_type": "code",
   "execution_count": null,
   "metadata": {},
   "outputs": [],
   "source": []
  }
 ],
 "metadata": {
  "kernelspec": {
   "display_name": "Python 3",
   "language": "python",
   "name": "python3"
  },
  "language_info": {
   "codemirror_mode": {
    "name": "ipython",
    "version": 3
   },
   "file_extension": ".py",
   "mimetype": "text/x-python",
   "name": "python",
   "nbconvert_exporter": "python",
   "pygments_lexer": "ipython3",
   "version": "3.6.6"
  }
 },
 "nbformat": 4,
 "nbformat_minor": 2
}
