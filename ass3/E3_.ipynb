{
 "cells": [
  {
   "cell_type": "markdown",
   "metadata": {},
   "source": [
    "# Building up"
   ]
  },
  {
   "cell_type": "code",
   "execution_count": 1,
   "metadata": {},
   "outputs": [
    {
     "name": "stdout",
     "output_type": "stream",
     "text": [
      "(1953, 3072)\n",
      "(1953,)\n",
      "Done loading training data, using time:(min) 0.08970758517583212\n"
     ]
    }
   ],
   "source": [
    "import numpy as np\n",
    "import time\n",
    "time_start = time.time()\n",
    "X = np.genfromtxt('00_Data/train_X_dog_cat.csv', delimiter=',')\n",
    "y = np.genfromtxt('00_Data/train_y_dog_cat.csv', delimiter=',')\n",
    "print(X.shape)\n",
    "\n",
    "n = X.shape[0]\n",
    "d = X.shape[1]\n",
    "print(y.shape)\n",
    "time_end = time.time()\n",
    "print(\"Done loading training data, using time:(min)\", (time_end-time_start)/60)"
   ]
  },
  {
   "cell_type": "code",
   "execution_count": 2,
   "metadata": {},
   "outputs": [
    {
     "name": "stdout",
     "output_type": "stream",
     "text": [
      "2000\n"
     ]
    }
   ],
   "source": [
    "X_test = np.genfromtxt('00_Data/test_X_dog_cat.csv', delimiter=',')\n",
    "y_test = np.genfromtxt('00_Data/test_y_dog_cat.csv', delimiter=',')\n",
    "m = X_test.shape[0]\n",
    "print(m)"
   ]
  },
  {
   "cell_type": "code",
   "execution_count": 3,
   "metadata": {},
   "outputs": [],
   "source": [
    "from sklearn import preprocessing\n",
    "scaler = preprocessing.MinMaxScaler().fit(X)\n",
    "X = scaler.transform(X)\n",
    "X_test = scaler.transform(X_test)\n"
   ]
  },
  {
   "cell_type": "code",
   "execution_count": 20,
   "metadata": {},
   "outputs": [],
   "source": [
    "def linear_kernel(x1,x2):\n",
    "    # x1 = (n,d) X2 = (m,d)\n",
    "    return(np.dot(x1,x2.T))\n",
    "\n",
    "def inhomogeneous_poly_kernel(x1,x2):\n",
    "    n = x1.shape[0]\n",
    "    m = x2.shape[0]\n",
    "    return np.power(np.ones(shape=(n,m)) + np.dot(x1,x2.T), 5)\n",
    "\n",
    "                  \n",
    "def gaussian_kernel(x1,x2,sigma=10):\n",
    "    n = x1.shape[0]\n",
    "    m = x2.shape[0]\n",
    "    K = np.zeros(shape=(n,m))\n",
    "    for i in range(n):\n",
    "        for j in range(m):\n",
    "            K[i][j] = gaussian(x1[i],x2[j],sigma)\n",
    "    return (K)\n",
    "\n",
    "def gaussian(x,y,sigma):\n",
    "    return np.exp((-(np.linalg.norm(x-y,2)**2))/(2*sigma**2))"
   ]
  },
  {
   "cell_type": "code",
   "execution_count": 5,
   "metadata": {},
   "outputs": [],
   "source": [
    "def evaluation(ans, y):\n",
    "    right = 0\n",
    "    num = ans.shape[0]\n",
    "    for i in range(ans.shape[0]):\n",
    "        if (ans[i] - 0.5)*y[i] > 0:\n",
    "            right += 1\n",
    "    return(right/float(num))"
   ]
  },
  {
   "cell_type": "code",
   "execution_count": 6,
   "metadata": {},
   "outputs": [],
   "source": [
    "def tolerable(delta,tol):\n",
    "    from numpy import linalg as LA\n",
    "    if LA.norm(delta,1) > tol:\n",
    "        return False\n",
    "    else:\n",
    "        return True"
   ]
  },
  {
   "cell_type": "code",
   "execution_count": 7,
   "metadata": {},
   "outputs": [],
   "source": [
    "def probability(alpha, Ki):\n",
    "    s = np.dot(alpha, Ki)\n",
    "    return(1/(1+np.exp(-s)))\n",
    "\n",
    "def train(K,y,max_iter,batch_size,regu_para, eta,tol):\n",
    "    time_start = time.time()\n",
    "    #alpha = np.random.uniform(size=(n))\n",
    "    alpha = np.zeros(n)\n",
    "    for t in range(max_iter):\n",
    "        samples = np.random.permutation(n)[:batch_size]\n",
    "        g = regu_para * alpha\n",
    "        #g = np.zeros(n)\n",
    "        for i in samples:\n",
    "            pi = probability(alpha, K[i])\n",
    "            g[i] = g[i] + (pi - (y[i]+1)/2.0)\n",
    "        alpha = alpha - eta*g\n",
    "        if tolerable(g, tol):\n",
    "            break\n",
    "        if t % 2000 == 0:\n",
    "            print(\"iter %d train_accuracy:%f\"%(t,evaluation(probability(alpha,K), y)))\n",
    "    time_end = time.time()\n",
    "    print(\"Done training, using time:(min)\", \n",
    "          (time_end-time_start)/60)\n",
    "    return(alpha)"
   ]
  },
  {
   "cell_type": "code",
   "execution_count": 8,
   "metadata": {},
   "outputs": [],
   "source": [
    "def experiment(kernel, X,y,X_test,y_test,regu_para, eta,tol= 0.1, max_iter=50000, batch_size=640):\n",
    "    K = kernel(X,X)\n",
    "    K_test = kernel(X,X_test)\n",
    "    print(\"Done kernel generating\")\n",
    "    alpha = train(K,y, max_iter,batch_size,regu_para, eta,tol)\n",
    "    print(\"Done training\")\n",
    "    print(alpha)\n",
    "    print(\"training result\")\n",
    "    ans = probability(alpha,K)\n",
    "    #print(ans)\n",
    "    print(evaluation(ans, y))\n",
    "    #print(y)\n",
    "    print(\"test result\")\n",
    "    ans = probability(alpha,K_test)\n",
    "    #print(ans)\n",
    "    print(evaluation(ans, y_test))\n",
    "    #print(y_test)"
   ]
  },
  {
   "cell_type": "markdown",
   "metadata": {
    "heading_collapsed": true
   },
   "source": [
    "# Linear kernel exps"
   ]
  },
  {
   "cell_type": "code",
   "execution_count": 28,
   "metadata": {
    "hidden": true,
    "scrolled": true
   },
   "outputs": [
    {
     "name": "stdout",
     "output_type": "stream",
     "text": [
      "Done kernel generating\n",
      "iter 0 train_accuracy:0.520225\n"
     ]
    },
    {
     "name": "stderr",
     "output_type": "stream",
     "text": [
      "/home/y247xie/.local/lib/python3.5/site-packages/ipykernel_launcher.py:3: RuntimeWarning: overflow encountered in exp\n",
      "  This is separate from the ipykernel package so we can avoid doing imports until\n"
     ]
    },
    {
     "name": "stdout",
     "output_type": "stream",
     "text": [
      "iter 2000 train_accuracy:0.555044\n",
      "iter 4000 train_accuracy:0.589350\n",
      "iter 6000 train_accuracy:0.593446\n",
      "iter 8000 train_accuracy:0.624680\n",
      "iter 10000 train_accuracy:0.665643\n",
      "iter 12000 train_accuracy:0.629288\n",
      "iter 14000 train_accuracy:0.621608\n",
      "iter 16000 train_accuracy:0.697901\n",
      "iter 18000 train_accuracy:0.627240\n",
      "iter 20000 train_accuracy:0.720430\n",
      "iter 22000 train_accuracy:0.710701\n",
      "iter 24000 train_accuracy:0.661546\n",
      "iter 26000 train_accuracy:0.632873\n",
      "iter 28000 train_accuracy:0.604199\n",
      "iter 30000 train_accuracy:0.584229\n",
      "iter 32000 train_accuracy:0.654378\n",
      "iter 34000 train_accuracy:0.636457\n",
      "iter 36000 train_accuracy:0.675371\n",
      "iter 38000 train_accuracy:0.584741\n",
      "iter 40000 train_accuracy:0.719406\n",
      "iter 42000 train_accuracy:0.623656\n",
      "iter 44000 train_accuracy:0.725550\n",
      "iter 46000 train_accuracy:0.610343\n",
      "iter 48000 train_accuracy:0.751152\n",
      "Done training, using time:(min) 2.5652570009231566\n",
      "Done training\n",
      "[-24.72967924 -82.53314759  -0.45824203 ...  71.2698941   77.80467792\n",
      "  83.31726411]\n",
      "training result\n",
      "0.6226318484383001\n",
      "test result\n",
      "0.5315\n"
     ]
    }
   ],
   "source": [
    "experiment(linear_kernel, X, y, X_test, y_test, regu_para=0, eta=0.01, tol=0.1)"
   ]
  },
  {
   "cell_type": "code",
   "execution_count": null,
   "metadata": {
    "hidden": true
   },
   "outputs": [],
   "source": [
    "experiment(linear_kernel, X, y, X_test, y_test, regu_para=1, eta=0.01, tol=0.01,max_iter=20000)"
   ]
  },
  {
   "cell_type": "code",
   "execution_count": 29,
   "metadata": {
    "hidden": true
   },
   "outputs": [
    {
     "name": "stdout",
     "output_type": "stream",
     "text": [
      "Done kernel generating\n",
      "iter 0 train_accuracy:0.524322\n",
      "iter 2000 train_accuracy:0.568356\n",
      "iter 4000 train_accuracy:0.577573\n",
      "iter 6000 train_accuracy:0.579109\n",
      "iter 8000 train_accuracy:0.619048\n",
      "iter 10000 train_accuracy:0.633385\n",
      "iter 12000 train_accuracy:0.570405\n",
      "iter 14000 train_accuracy:0.589350\n",
      "iter 16000 train_accuracy:0.669739\n",
      "iter 18000 train_accuracy:0.606759\n",
      "iter 20000 train_accuracy:0.658986\n",
      "iter 22000 train_accuracy:0.646697\n",
      "iter 24000 train_accuracy:0.707117\n",
      "iter 26000 train_accuracy:0.713262\n",
      "iter 28000 train_accuracy:0.640553\n",
      "iter 30000 train_accuracy:0.660522\n",
      "iter 32000 train_accuracy:0.738863\n",
      "iter 34000 train_accuracy:0.654378\n",
      "iter 36000 train_accuracy:0.640041\n",
      "iter 38000 train_accuracy:0.646185\n",
      "iter 40000 train_accuracy:0.627752\n",
      "iter 42000 train_accuracy:0.738351\n",
      "iter 44000 train_accuracy:0.624680\n",
      "iter 46000 train_accuracy:0.717870\n",
      "iter 48000 train_accuracy:0.708141\n",
      "Done training, using time:(min) 2.2449634432792664\n",
      "Done training\n",
      "[-2.55404882 -8.23323814 -0.05373824 ...  7.13329195  7.73501488\n",
      "  8.32977632]\n",
      "training result\n",
      "0.6912442396313364\n",
      "test result\n",
      "0.534\n"
     ]
    }
   ],
   "source": [
    "experiment(linear_kernel, X, y, X_test, y_test, regu_para=0, eta=0.001, tol=0.1)"
   ]
  },
  {
   "cell_type": "code",
   "execution_count": 30,
   "metadata": {
    "hidden": true
   },
   "outputs": [
    {
     "name": "stdout",
     "output_type": "stream",
     "text": [
      "Done kernel generating\n",
      "iter 0 train_accuracy:0.520225\n",
      "iter 2000 train_accuracy:0.573989\n",
      "iter 4000 train_accuracy:0.589350\n",
      "iter 6000 train_accuracy:0.585765\n",
      "iter 8000 train_accuracy:0.628776\n",
      "iter 10000 train_accuracy:0.636969\n",
      "iter 12000 train_accuracy:0.589350\n",
      "iter 14000 train_accuracy:0.619048\n",
      "iter 16000 train_accuracy:0.652330\n",
      "iter 18000 train_accuracy:0.619048\n",
      "iter 20000 train_accuracy:0.658986\n",
      "iter 22000 train_accuracy:0.704045\n",
      "iter 24000 train_accuracy:0.644649\n",
      "iter 26000 train_accuracy:0.737327\n",
      "iter 28000 train_accuracy:0.651818\n",
      "iter 30000 train_accuracy:0.704557\n",
      "iter 32000 train_accuracy:0.758833\n",
      "iter 34000 train_accuracy:0.693804\n",
      "iter 36000 train_accuracy:0.630824\n",
      "iter 38000 train_accuracy:0.663082\n",
      "iter 40000 train_accuracy:0.694828\n",
      "iter 42000 train_accuracy:0.706605\n",
      "iter 44000 train_accuracy:0.714286\n",
      "iter 46000 train_accuracy:0.692780\n",
      "iter 48000 train_accuracy:0.691244\n",
      "Done training, using time:(min) 2.2375803788503013\n",
      "Done training\n",
      "[-0.25375142 -0.80916862 -0.01319075 ...  0.704521    0.79774269\n",
      "  0.83047695]\n",
      "training result\n",
      "0.6620583717357911\n",
      "test result\n",
      "0.531\n"
     ]
    }
   ],
   "source": [
    "experiment(linear_kernel, X, y, X_test, y_test, regu_para=0, eta=0.0001, tol=0.1)"
   ]
  },
  {
   "cell_type": "code",
   "execution_count": 31,
   "metadata": {
    "hidden": true
   },
   "outputs": [
    {
     "name": "stdout",
     "output_type": "stream",
     "text": [
      "Done kernel generating\n",
      "iter 0 train_accuracy:0.520225\n",
      "iter 2000 train_accuracy:0.520737\n",
      "iter 4000 train_accuracy:0.520225\n",
      "iter 6000 train_accuracy:0.519713\n",
      "iter 8000 train_accuracy:0.519713\n",
      "iter 10000 train_accuracy:0.521249\n",
      "iter 12000 train_accuracy:0.522273\n",
      "iter 14000 train_accuracy:0.520737\n",
      "iter 16000 train_accuracy:0.519201\n",
      "iter 18000 train_accuracy:0.519713\n",
      "iter 20000 train_accuracy:0.520225\n",
      "iter 22000 train_accuracy:0.519713\n",
      "iter 24000 train_accuracy:0.520225\n",
      "iter 26000 train_accuracy:0.520225\n",
      "iter 28000 train_accuracy:0.521761\n",
      "iter 30000 train_accuracy:0.521761\n",
      "iter 32000 train_accuracy:0.519713\n",
      "iter 34000 train_accuracy:0.520225\n",
      "iter 36000 train_accuracy:0.522273\n",
      "iter 38000 train_accuracy:0.521761\n",
      "iter 40000 train_accuracy:0.519713\n",
      "iter 42000 train_accuracy:0.520737\n",
      "iter 44000 train_accuracy:0.520225\n",
      "iter 46000 train_accuracy:0.521761\n",
      "iter 48000 train_accuracy:0.520737\n",
      "Done training, using time:(min) 2.2182202696800233\n",
      "Done training\n",
      "[-0.00049907 -0.01286958 -0.01324424 ...  0.01414946  0.01492494\n",
      "  0.00917827]\n",
      "training result\n",
      "0.49206349206349204\n",
      "test result\n",
      "0.5125\n"
     ]
    }
   ],
   "source": [
    "experiment(linear_kernel, X, y, X_test, y_test, regu_para=10, eta=0.001, tol=0.1)"
   ]
  },
  {
   "cell_type": "code",
   "execution_count": 32,
   "metadata": {
    "hidden": true
   },
   "outputs": [
    {
     "name": "stdout",
     "output_type": "stream",
     "text": [
      "Done kernel generating\n",
      "iter 0 train_accuracy:0.520225\n",
      "iter 2000 train_accuracy:0.520225\n",
      "iter 4000 train_accuracy:0.520225\n",
      "iter 6000 train_accuracy:0.520225\n",
      "iter 8000 train_accuracy:0.520225\n",
      "iter 10000 train_accuracy:0.520225\n",
      "iter 12000 train_accuracy:0.520225\n",
      "iter 14000 train_accuracy:0.520225\n",
      "iter 16000 train_accuracy:0.520225\n",
      "iter 18000 train_accuracy:0.520225\n",
      "iter 20000 train_accuracy:0.520225\n",
      "iter 22000 train_accuracy:0.520225\n",
      "iter 24000 train_accuracy:0.520225\n",
      "iter 26000 train_accuracy:0.520225\n",
      "iter 28000 train_accuracy:0.520225\n",
      "iter 30000 train_accuracy:0.520225\n",
      "iter 32000 train_accuracy:0.520225\n",
      "iter 34000 train_accuracy:0.520225\n",
      "iter 36000 train_accuracy:0.520225\n",
      "iter 38000 train_accuracy:0.520225\n",
      "iter 40000 train_accuracy:0.520225\n",
      "iter 42000 train_accuracy:0.520225\n",
      "iter 44000 train_accuracy:0.520225\n",
      "iter 46000 train_accuracy:0.520225\n",
      "iter 48000 train_accuracy:0.520225\n",
      "Done training, using time:(min) 2.213572013378143\n",
      "Done training\n",
      "[-0.00146557 -0.00285996 -0.00867031 ...  0.00754734  0.00556321\n",
      "  0.00673655]\n",
      "training result\n",
      "0.4838709677419355\n",
      "test result\n",
      "0.5055\n"
     ]
    }
   ],
   "source": [
    "experiment(linear_kernel, X, y, X_test, y_test, regu_para=30, eta=0.001, tol=0.1)"
   ]
  },
  {
   "cell_type": "code",
   "execution_count": 33,
   "metadata": {
    "hidden": true,
    "scrolled": false
   },
   "outputs": [
    {
     "name": "stdout",
     "output_type": "stream",
     "text": [
      "Done kernel generating\n",
      "iter 0 train_accuracy:0.534562\n",
      "iter 2000 train_accuracy:0.533026\n",
      "iter 4000 train_accuracy:0.534562\n",
      "iter 6000 train_accuracy:0.539171\n",
      "iter 8000 train_accuracy:0.549411\n",
      "iter 10000 train_accuracy:0.535074\n",
      "iter 12000 train_accuracy:0.550435\n",
      "iter 14000 train_accuracy:0.534562\n",
      "iter 16000 train_accuracy:0.545827\n",
      "iter 18000 train_accuracy:0.554019\n",
      "iter 20000 train_accuracy:0.542755\n",
      "iter 22000 train_accuracy:0.554019\n",
      "iter 24000 train_accuracy:0.538658\n",
      "iter 26000 train_accuracy:0.536610\n",
      "iter 28000 train_accuracy:0.541219\n",
      "iter 30000 train_accuracy:0.551971\n",
      "iter 32000 train_accuracy:0.562724\n",
      "iter 34000 train_accuracy:0.537122\n",
      "iter 36000 train_accuracy:0.540195\n",
      "iter 38000 train_accuracy:0.545827\n",
      "iter 40000 train_accuracy:0.542243\n",
      "iter 42000 train_accuracy:0.545315\n",
      "iter 44000 train_accuracy:0.560164\n",
      "iter 46000 train_accuracy:0.550947\n",
      "iter 48000 train_accuracy:0.537634\n",
      "Done training, using time:(min) 2.1733374913533527\n",
      "Done training\n",
      "[-0.15437237 -0.15523217 -0.006991   ...  0.15957007  0.1771946\n",
      "  0.16405582]\n",
      "training result\n",
      "0.5176651305683564\n",
      "test result\n",
      "0.52\n"
     ]
    }
   ],
   "source": [
    "experiment(linear_kernel, X, y, X_test, y_test, regu_para=1, eta=0.001, tol=0.1)"
   ]
  },
  {
   "cell_type": "code",
   "execution_count": null,
   "metadata": {
    "hidden": true
   },
   "outputs": [],
   "source": [
    "experiment(linear_kernel, X, y, X_test, y_test, regu_para=0.1, eta=0.01, tol=0.1)"
   ]
  },
  {
   "cell_type": "code",
   "execution_count": null,
   "metadata": {
    "hidden": true
   },
   "outputs": [],
   "source": [
    "experiment(linear_kernel, X, y, X_test, y_test, regu_para=0.3, eta=0.01, tol=0.1)"
   ]
  },
  {
   "cell_type": "code",
   "execution_count": null,
   "metadata": {
    "hidden": true
   },
   "outputs": [],
   "source": [
    "experiment(linear_kernel, X, y, X_test, y_test, regu_para=0.01, eta=0.01, tol=0.1)"
   ]
  },
  {
   "cell_type": "markdown",
   "metadata": {},
   "source": [
    "# gaussian kernel exps"
   ]
  },
  {
   "cell_type": "markdown",
   "metadata": {
    "heading_collapsed": true
   },
   "source": [
    "## sigma = 30"
   ]
  },
  {
   "cell_type": "code",
   "execution_count": 9,
   "metadata": {
    "hidden": true
   },
   "outputs": [
    {
     "name": "stdout",
     "output_type": "stream",
     "text": [
      "Done kernel generating\n",
      "iter 0 train_accuracy:0.520225\n",
      "iter 2000 train_accuracy:0.655914\n",
      "iter 4000 train_accuracy:0.661034\n",
      "iter 6000 train_accuracy:0.670763\n",
      "iter 8000 train_accuracy:0.670763\n",
      "iter 10000 train_accuracy:0.671275\n",
      "iter 12000 train_accuracy:0.663082\n",
      "iter 14000 train_accuracy:0.668203\n",
      "iter 16000 train_accuracy:0.669739\n",
      "iter 18000 train_accuracy:0.664107\n",
      "iter 20000 train_accuracy:0.661034\n",
      "iter 22000 train_accuracy:0.668715\n",
      "iter 24000 train_accuracy:0.666667\n",
      "iter 26000 train_accuracy:0.668715\n",
      "iter 28000 train_accuracy:0.671787\n",
      "iter 30000 train_accuracy:0.668715\n",
      "iter 32000 train_accuracy:0.662058\n",
      "iter 34000 train_accuracy:0.662570\n",
      "iter 36000 train_accuracy:0.668715\n",
      "iter 38000 train_accuracy:0.669227\n",
      "iter 40000 train_accuracy:0.661546\n",
      "iter 42000 train_accuracy:0.670251\n",
      "iter 44000 train_accuracy:0.673835\n",
      "iter 46000 train_accuracy:0.671275\n",
      "iter 48000 train_accuracy:0.662570\n",
      "Done training, using time:(min) 2.297707998752594\n",
      "Done training\n",
      "[-1.11217638 -1.81742875 -1.02836677 ...  1.8723379   1.61560867\n",
      "  1.58607836]\n",
      "training result\n",
      "0.6646185355862775\n",
      "test result\n",
      "0.605\n"
     ]
    }
   ],
   "source": [
    "experiment(gaussian_kernel, X, y, X_test, y_test, regu_para=0.1, eta=0.01, tol=0.1)"
   ]
  },
  {
   "cell_type": "code",
   "execution_count": 10,
   "metadata": {
    "hidden": true
   },
   "outputs": [
    {
     "name": "stdout",
     "output_type": "stream",
     "text": [
      "Done kernel generating\n",
      "iter 0 train_accuracy:0.520225\n",
      "iter 2000 train_accuracy:0.610855\n",
      "iter 4000 train_accuracy:0.597030\n",
      "iter 6000 train_accuracy:0.613415\n",
      "iter 8000 train_accuracy:0.615463\n",
      "iter 10000 train_accuracy:0.610343\n",
      "iter 12000 train_accuracy:0.599078\n",
      "iter 14000 train_accuracy:0.609831\n",
      "iter 16000 train_accuracy:0.611879\n",
      "iter 18000 train_accuracy:0.614439\n",
      "iter 20000 train_accuracy:0.615463\n",
      "iter 22000 train_accuracy:0.610343\n",
      "iter 24000 train_accuracy:0.612903\n",
      "iter 26000 train_accuracy:0.612903\n",
      "iter 28000 train_accuracy:0.610343\n",
      "iter 30000 train_accuracy:0.613927\n",
      "iter 32000 train_accuracy:0.616999\n",
      "iter 34000 train_accuracy:0.611367\n",
      "iter 36000 train_accuracy:0.614951\n",
      "iter 38000 train_accuracy:0.580133\n",
      "iter 40000 train_accuracy:0.610855\n",
      "iter 42000 train_accuracy:0.608807\n",
      "iter 44000 train_accuracy:0.609831\n",
      "iter 46000 train_accuracy:0.579109\n",
      "iter 48000 train_accuracy:0.601639\n",
      "Done training, using time:(min) 2.268279695510864\n",
      "Done training\n",
      "[-0.11963902 -0.1592028  -0.14110277 ...  0.15549601  0.18395524\n",
      "  0.14003812]\n",
      "training result\n",
      "0.6129032258064516\n",
      "test result\n",
      "0.5875\n"
     ]
    }
   ],
   "source": [
    "experiment(gaussian_kernel, X, y, X_test, y_test, regu_para=1, eta=0.01, tol=0.1)"
   ]
  },
  {
   "cell_type": "code",
   "execution_count": 11,
   "metadata": {
    "hidden": true
   },
   "outputs": [
    {
     "name": "stdout",
     "output_type": "stream",
     "text": [
      "Done kernel generating\n",
      "iter 0 train_accuracy:0.520225\n",
      "iter 2000 train_accuracy:0.592422\n",
      "iter 4000 train_accuracy:0.559140\n",
      "iter 6000 train_accuracy:0.589350\n",
      "iter 8000 train_accuracy:0.566308\n",
      "iter 10000 train_accuracy:0.592422\n",
      "iter 12000 train_accuracy:0.577061\n",
      "iter 14000 train_accuracy:0.486431\n",
      "iter 16000 train_accuracy:0.554531\n",
      "iter 18000 train_accuracy:0.544291\n",
      "iter 20000 train_accuracy:0.550947\n",
      "iter 22000 train_accuracy:0.569380\n",
      "iter 24000 train_accuracy:0.554531\n",
      "iter 26000 train_accuracy:0.546339\n",
      "iter 28000 train_accuracy:0.550435\n",
      "iter 30000 train_accuracy:0.565796\n",
      "iter 32000 train_accuracy:0.547875\n",
      "iter 34000 train_accuracy:0.593958\n",
      "iter 36000 train_accuracy:0.596006\n",
      "iter 38000 train_accuracy:0.537122\n",
      "iter 40000 train_accuracy:0.570405\n",
      "iter 42000 train_accuracy:0.550435\n",
      "iter 44000 train_accuracy:0.530978\n",
      "iter 46000 train_accuracy:0.595494\n",
      "iter 48000 train_accuracy:0.522273\n",
      "Done training, using time:(min) 2.2915820360183714\n",
      "Done training\n",
      "[-0.01003128 -0.01148967 -0.01567461 ...  0.00958659  0.03680538\n",
      "  0.01544128]\n",
      "training result\n",
      "0.5775729646697388\n",
      "test result\n",
      "0.568\n"
     ]
    }
   ],
   "source": [
    "experiment(gaussian_kernel, X, y, X_test, y_test, regu_para=10, eta=0.01, tol=0.1)"
   ]
  },
  {
   "cell_type": "code",
   "execution_count": 12,
   "metadata": {
    "hidden": true
   },
   "outputs": [
    {
     "name": "stdout",
     "output_type": "stream",
     "text": [
      "Done kernel generating\n",
      "iter 0 train_accuracy:0.520225\n",
      "iter 2000 train_accuracy:0.699949\n",
      "iter 4000 train_accuracy:0.741423\n",
      "iter 6000 train_accuracy:0.775218\n",
      "iter 8000 train_accuracy:0.784434\n",
      "iter 10000 train_accuracy:0.815668\n",
      "iter 12000 train_accuracy:0.817716\n",
      "iter 14000 train_accuracy:0.832053\n",
      "iter 16000 train_accuracy:0.838710\n",
      "iter 18000 train_accuracy:0.849462\n",
      "iter 20000 train_accuracy:0.848950\n",
      "iter 22000 train_accuracy:0.862775\n",
      "iter 24000 train_accuracy:0.868408\n",
      "iter 26000 train_accuracy:0.873528\n",
      "iter 28000 train_accuracy:0.880696\n",
      "iter 30000 train_accuracy:0.885817\n",
      "iter 32000 train_accuracy:0.893497\n",
      "iter 34000 train_accuracy:0.897081\n",
      "iter 36000 train_accuracy:0.902202\n",
      "iter 38000 train_accuracy:0.905786\n",
      "iter 40000 train_accuracy:0.909882\n",
      "iter 42000 train_accuracy:0.916027\n",
      "iter 44000 train_accuracy:0.919611\n",
      "iter 46000 train_accuracy:0.922171\n",
      "iter 48000 train_accuracy:0.921147\n",
      "Done training, using time:(min) 2.246520713965098\n",
      "Done training\n",
      "[-30.1698246  -66.31461786 -50.7753847  ...  71.41729396  54.5869011\n",
      "  92.14294638]\n",
      "training result\n",
      "0.9278033794162827\n",
      "test result\n",
      "0.6095\n"
     ]
    }
   ],
   "source": [
    "experiment(gaussian_kernel, X, y, X_test, y_test, regu_para=0, eta=0.01, tol=0.1)"
   ]
  },
  {
   "cell_type": "code",
   "execution_count": 13,
   "metadata": {
    "hidden": true
   },
   "outputs": [
    {
     "name": "stdout",
     "output_type": "stream",
     "text": [
      "Done kernel generating\n",
      "iter 0 train_accuracy:0.520225\n",
      "iter 2000 train_accuracy:0.636969\n",
      "iter 4000 train_accuracy:0.629800\n",
      "iter 6000 train_accuracy:0.636457\n",
      "iter 8000 train_accuracy:0.631848\n",
      "iter 10000 train_accuracy:0.637993\n",
      "iter 12000 train_accuracy:0.625704\n",
      "iter 14000 train_accuracy:0.635945\n",
      "iter 16000 train_accuracy:0.628264\n",
      "iter 18000 train_accuracy:0.641065\n",
      "iter 20000 train_accuracy:0.638505\n",
      "iter 22000 train_accuracy:0.634409\n",
      "iter 24000 train_accuracy:0.639017\n",
      "iter 26000 train_accuracy:0.625704\n",
      "iter 28000 train_accuracy:0.623656\n",
      "iter 30000 train_accuracy:0.638505\n",
      "iter 32000 train_accuracy:0.642601\n",
      "iter 34000 train_accuracy:0.636969\n",
      "iter 36000 train_accuracy:0.641577\n",
      "iter 38000 train_accuracy:0.640041\n",
      "iter 40000 train_accuracy:0.642601\n",
      "iter 42000 train_accuracy:0.631336\n",
      "iter 44000 train_accuracy:0.614951\n",
      "iter 46000 train_accuracy:0.629288\n",
      "iter 48000 train_accuracy:0.639017\n",
      "Done training, using time:(min) 2.3245592951774596\n",
      "Done training\n",
      "[-0.37302478 -0.64716014 -0.40195197 ...  0.59229359  0.52917766\n",
      "  0.55880456]\n",
      "training result\n",
      "0.6349206349206349\n",
      "test result\n",
      "0.5895\n"
     ]
    }
   ],
   "source": [
    "experiment(gaussian_kernel, X, y, X_test, y_test, regu_para=0.3, eta=0.01, tol=0.1)"
   ]
  },
  {
   "cell_type": "code",
   "execution_count": 14,
   "metadata": {
    "hidden": true
   },
   "outputs": [
    {
     "name": "stdout",
     "output_type": "stream",
     "text": [
      "Done kernel generating\n",
      "iter 0 train_accuracy:0.520225\n",
      "iter 2000 train_accuracy:0.691756\n",
      "iter 4000 train_accuracy:0.731695\n",
      "iter 6000 train_accuracy:0.755248\n",
      "iter 8000 train_accuracy:0.772145\n",
      "iter 10000 train_accuracy:0.776242\n",
      "iter 12000 train_accuracy:0.780850\n",
      "iter 14000 train_accuracy:0.788530\n",
      "iter 16000 train_accuracy:0.792627\n",
      "iter 18000 train_accuracy:0.783410\n",
      "iter 20000 train_accuracy:0.794163\n",
      "iter 22000 train_accuracy:0.798771\n",
      "iter 24000 train_accuracy:0.792627\n",
      "iter 26000 train_accuracy:0.808500\n",
      "iter 28000 train_accuracy:0.807476\n",
      "iter 30000 train_accuracy:0.807476\n",
      "iter 32000 train_accuracy:0.806964\n",
      "iter 34000 train_accuracy:0.797235\n",
      "iter 36000 train_accuracy:0.792115\n",
      "iter 38000 train_accuracy:0.798771\n",
      "iter 40000 train_accuracy:0.805428\n",
      "iter 42000 train_accuracy:0.803891\n",
      "iter 44000 train_accuracy:0.807476\n",
      "iter 46000 train_accuracy:0.810548\n",
      "iter 48000 train_accuracy:0.801331\n",
      "Done training, using time:(min) 2.3260084867477415\n",
      "Done training\n",
      "[ -8.21414382 -14.62627928  -9.99124797 ...  15.77129993  13.41108443\n",
      "  17.79697095]\n",
      "training result\n",
      "0.799795186891961\n",
      "test result\n",
      "0.608\n"
     ]
    }
   ],
   "source": [
    "experiment(gaussian_kernel, X, y, X_test, y_test, regu_para=0.01, eta=0.01, tol=0.1)"
   ]
  },
  {
   "cell_type": "code",
   "execution_count": 15,
   "metadata": {
    "hidden": true
   },
   "outputs": [
    {
     "name": "stdout",
     "output_type": "stream",
     "text": [
      "Done kernel generating\n",
      "iter 0 train_accuracy:0.520225\n",
      "iter 2000 train_accuracy:0.681004\n",
      "iter 4000 train_accuracy:0.715310\n",
      "iter 6000 train_accuracy:0.724014\n",
      "iter 8000 train_accuracy:0.722990\n",
      "iter 10000 train_accuracy:0.727599\n",
      "iter 12000 train_accuracy:0.725550\n",
      "iter 14000 train_accuracy:0.721966\n",
      "iter 16000 train_accuracy:0.728623\n",
      "iter 18000 train_accuracy:0.729647\n",
      "iter 20000 train_accuracy:0.710189\n",
      "iter 22000 train_accuracy:0.729135\n",
      "iter 24000 train_accuracy:0.708141\n",
      "iter 26000 train_accuracy:0.729135\n",
      "iter 28000 train_accuracy:0.732719\n",
      "iter 30000 train_accuracy:0.726575\n",
      "iter 32000 train_accuracy:0.727087\n",
      "iter 34000 train_accuracy:0.727599\n",
      "iter 36000 train_accuracy:0.726062\n",
      "iter 38000 train_accuracy:0.731695\n",
      "iter 40000 train_accuracy:0.728623\n",
      "iter 42000 train_accuracy:0.726575\n",
      "iter 44000 train_accuracy:0.731183\n",
      "iter 46000 train_accuracy:0.730671\n",
      "iter 48000 train_accuracy:0.731695\n",
      "Done training, using time:(min) 2.2934930960337323\n",
      "Done training\n",
      "[-3.30684866 -5.28430253 -3.1607715  ...  5.86613929  5.27283499\n",
      "  5.46671122]\n",
      "training result\n",
      "0.731694828469022\n",
      "test result\n",
      "0.612\n"
     ]
    }
   ],
   "source": [
    "experiment(gaussian_kernel, X, y, X_test, y_test, regu_para=0.03, eta=0.01, tol=0.1)"
   ]
  },
  {
   "cell_type": "code",
   "execution_count": 16,
   "metadata": {
    "hidden": true
   },
   "outputs": [
    {
     "name": "stdout",
     "output_type": "stream",
     "text": [
      "Done kernel generating\n",
      "iter 0 train_accuracy:0.520225\n",
      "iter 2000 train_accuracy:0.692780\n",
      "iter 4000 train_accuracy:0.741423\n",
      "iter 6000 train_accuracy:0.764465\n",
      "iter 8000 train_accuracy:0.782898\n",
      "iter 10000 train_accuracy:0.794163\n",
      "iter 12000 train_accuracy:0.805428\n",
      "iter 14000 train_accuracy:0.819764\n",
      "iter 16000 train_accuracy:0.829493\n",
      "iter 18000 train_accuracy:0.831541\n",
      "iter 20000 train_accuracy:0.839734\n",
      "iter 22000 train_accuracy:0.844854\n",
      "iter 24000 train_accuracy:0.851510\n",
      "iter 26000 train_accuracy:0.843830\n",
      "iter 28000 train_accuracy:0.844854\n",
      "iter 30000 train_accuracy:0.864311\n",
      "iter 32000 train_accuracy:0.863287\n",
      "iter 34000 train_accuracy:0.856631\n",
      "iter 36000 train_accuracy:0.871480\n",
      "iter 38000 train_accuracy:0.869432\n",
      "iter 40000 train_accuracy:0.874552\n",
      "iter 42000 train_accuracy:0.874552\n",
      "iter 44000 train_accuracy:0.875576\n",
      "iter 46000 train_accuracy:0.878136\n",
      "iter 48000 train_accuracy:0.877624\n",
      "Done training, using time:(min) 2.3400856653849282\n",
      "Done training\n",
      "[-17.32313689 -35.82243934 -26.53497967 ...  38.65162258  30.44525641\n",
      "  47.17729984]\n",
      "training result\n",
      "0.8786482334869432\n",
      "test result\n",
      "0.606\n"
     ]
    }
   ],
   "source": [
    "experiment(gaussian_kernel, X, y, X_test, y_test, regu_para=0.003, eta=0.01, tol=0.1)"
   ]
  },
  {
   "cell_type": "code",
   "execution_count": 17,
   "metadata": {
    "hidden": true
   },
   "outputs": [
    {
     "name": "stdout",
     "output_type": "stream",
     "text": [
      "Done kernel generating\n",
      "iter 0 train_accuracy:0.520225\n",
      "iter 2000 train_accuracy:0.623144\n",
      "iter 4000 train_accuracy:0.636969\n",
      "iter 6000 train_accuracy:0.651306\n",
      "iter 8000 train_accuracy:0.654378\n",
      "iter 10000 train_accuracy:0.658986\n",
      "iter 12000 train_accuracy:0.667179\n",
      "iter 14000 train_accuracy:0.671275\n",
      "iter 16000 train_accuracy:0.676395\n",
      "iter 18000 train_accuracy:0.679980\n",
      "iter 20000 train_accuracy:0.685612\n",
      "iter 22000 train_accuracy:0.690732\n",
      "iter 24000 train_accuracy:0.685100\n",
      "iter 26000 train_accuracy:0.690732\n",
      "iter 28000 train_accuracy:0.698413\n",
      "iter 30000 train_accuracy:0.696877\n",
      "iter 32000 train_accuracy:0.695853\n",
      "iter 34000 train_accuracy:0.701997\n",
      "iter 36000 train_accuracy:0.698925\n",
      "iter 38000 train_accuracy:0.705069\n",
      "iter 40000 train_accuracy:0.705581\n",
      "iter 42000 train_accuracy:0.711214\n",
      "iter 44000 train_accuracy:0.710701\n",
      "iter 46000 train_accuracy:0.711726\n",
      "iter 48000 train_accuracy:0.712750\n",
      "Done training, using time:(min) 2.387454128265381\n",
      "Done training\n",
      "[-2.74388166 -4.2579082  -2.46283814 ...  4.63318115  4.12958903\n",
      "  4.28355389]\n",
      "training result\n",
      "0.7122375832053252\n",
      "test result\n",
      "0.612\n"
     ]
    }
   ],
   "source": [
    "experiment(gaussian_kernel, X, y, X_test, y_test, regu_para=0.03, eta=0.001, tol=0.01)"
   ]
  },
  {
   "cell_type": "markdown",
   "metadata": {},
   "source": [
    "## sigma = 10"
   ]
  },
  {
   "cell_type": "code",
   "execution_count": 21,
   "metadata": {},
   "outputs": [
    {
     "name": "stdout",
     "output_type": "stream",
     "text": [
      "Done kernel generating\n",
      "iter 0 train_accuracy:0.548387\n",
      "iter 2000 train_accuracy:0.896057\n",
      "iter 4000 train_accuracy:0.905786\n",
      "iter 6000 train_accuracy:0.907322\n",
      "iter 8000 train_accuracy:0.907834\n",
      "iter 10000 train_accuracy:0.906810\n",
      "iter 12000 train_accuracy:0.908346\n",
      "iter 14000 train_accuracy:0.908858\n",
      "iter 16000 train_accuracy:0.907834\n",
      "iter 18000 train_accuracy:0.905274\n",
      "iter 20000 train_accuracy:0.908346\n",
      "iter 22000 train_accuracy:0.906810\n",
      "iter 24000 train_accuracy:0.905786\n",
      "iter 26000 train_accuracy:0.905274\n",
      "iter 28000 train_accuracy:0.907322\n",
      "iter 30000 train_accuracy:0.910906\n",
      "iter 32000 train_accuracy:0.911418\n",
      "iter 34000 train_accuracy:0.908346\n",
      "iter 36000 train_accuracy:0.905786\n",
      "iter 38000 train_accuracy:0.907834\n",
      "iter 40000 train_accuracy:0.906298\n",
      "iter 42000 train_accuracy:0.905786\n",
      "iter 44000 train_accuracy:0.902714\n",
      "iter 46000 train_accuracy:0.908858\n",
      "iter 48000 train_accuracy:0.909882\n",
      "Done training, using time:(min) 2.656913165251414\n",
      "Done training\n",
      "[-0.85800527 -1.4069801  -1.08640482 ...  1.44391633  1.12176991\n",
      "  1.42569765]\n",
      "training result\n",
      "0.9057859703020993\n",
      "test result\n",
      "0.622\n"
     ]
    }
   ],
   "source": [
    "experiment(gaussian_kernel, X, y, X_test, y_test, regu_para=0.1, eta=0.01, tol=0.01)"
   ]
  },
  {
   "cell_type": "code",
   "execution_count": null,
   "metadata": {},
   "outputs": [
    {
     "name": "stdout",
     "output_type": "stream",
     "text": [
      "Done kernel generating\n",
      "iter 0 train_accuracy:0.546339\n",
      "iter 2000 train_accuracy:0.944188\n",
      "iter 4000 train_accuracy:0.971326\n",
      "iter 6000 train_accuracy:0.978495\n",
      "iter 8000 train_accuracy:0.981567\n",
      "iter 10000 train_accuracy:0.983103\n",
      "iter 12000 train_accuracy:0.984127\n"
     ]
    }
   ],
   "source": [
    "experiment(gaussian_kernel, X, y, X_test, y_test, regu_para=0.03, eta=0.01, tol=0.01)"
   ]
  },
  {
   "cell_type": "code",
   "execution_count": null,
   "metadata": {},
   "outputs": [],
   "source": [
    "experiment(gaussian_kernel, X, y, X_test, y_test, regu_para=0.01, eta=0.01, tol=0.01)"
   ]
  },
  {
   "cell_type": "code",
   "execution_count": null,
   "metadata": {},
   "outputs": [],
   "source": [
    "experiment(gaussian_kernel, X, y, X_test, y_test, regu_para=0.3, eta=0.01, tol=0.01)"
   ]
  },
  {
   "cell_type": "markdown",
   "metadata": {
    "heading_collapsed": true
   },
   "source": [
    "# inhomogeneous kernel exps"
   ]
  },
  {
   "cell_type": "code",
   "execution_count": null,
   "metadata": {
    "hidden": true
   },
   "outputs": [
    {
     "name": "stdout",
     "output_type": "stream",
     "text": [
      "Done kernel generating\n",
      "iter 0 train_accuracy:0.525858\n"
     ]
    },
    {
     "name": "stderr",
     "output_type": "stream",
     "text": [
      "/home/y247xie/.local/lib/python3.5/site-packages/ipykernel_launcher.py:3: RuntimeWarning: overflow encountered in exp\n",
      "  This is separate from the ipykernel package so we can avoid doing imports until\n"
     ]
    },
    {
     "name": "stdout",
     "output_type": "stream",
     "text": [
      "iter 2000 train_accuracy:0.962110\n",
      "iter 4000 train_accuracy:0.988223\n",
      "Done training, using time:(min) 0.28302624622980754\n",
      "Done training\n",
      "[-0.044  -0.2965 -0.127  ...  0.266   0.1635  0.26  ]\n",
      "training result\n",
      "0.9912954429083461\n",
      "test result\n",
      "0.6015\n"
     ]
    }
   ],
   "source": [
    "experiment(inhomogeneous_poly_kernel, X, y, X_test, y_test, regu_para=0, eta=0.001, tol=0.01)"
   ]
  },
  {
   "cell_type": "code",
   "execution_count": null,
   "metadata": {
    "hidden": true
   },
   "outputs": [
    {
     "name": "stdout",
     "output_type": "stream",
     "text": [
      "Done kernel generating\n",
      "iter 0 train_accuracy:0.518689\n"
     ]
    },
    {
     "name": "stderr",
     "output_type": "stream",
     "text": [
      "/home/y247xie/.local/lib/python3.5/site-packages/ipykernel_launcher.py:3: RuntimeWarning: overflow encountered in exp\n",
      "  This is separate from the ipykernel package so we can avoid doing imports until\n"
     ]
    },
    {
     "name": "stdout",
     "output_type": "stream",
     "text": [
      "iter 2000 train_accuracy:0.544291\n",
      "iter 4000 train_accuracy:0.570405\n",
      "iter 6000 train_accuracy:0.568356\n",
      "iter 8000 train_accuracy:0.594982\n",
      "iter 10000 train_accuracy:0.586790\n",
      "iter 12000 train_accuracy:0.699949\n",
      "iter 14000 train_accuracy:0.648746\n",
      "iter 16000 train_accuracy:0.830005\n",
      "iter 18000 train_accuracy:0.526370\n",
      "iter 20000 train_accuracy:0.644137\n",
      "iter 22000 train_accuracy:0.573477\n",
      "iter 24000 train_accuracy:0.578085\n",
      "iter 26000 train_accuracy:0.811572\n",
      "iter 28000 train_accuracy:0.658986\n",
      "iter 30000 train_accuracy:0.653354\n",
      "iter 32000 train_accuracy:0.796723\n",
      "iter 34000 train_accuracy:0.813620\n",
      "iter 36000 train_accuracy:0.734767\n",
      "iter 38000 train_accuracy:0.712750\n",
      "iter 40000 train_accuracy:0.547363\n",
      "iter 42000 train_accuracy:0.539171\n",
      "iter 44000 train_accuracy:0.631848\n",
      "iter 46000 train_accuracy:0.687660\n",
      "iter 48000 train_accuracy:0.830517\n",
      "Done training, using time:(min) 2.8351170420646667\n",
      "Done training\n",
      "[-0.02731652 -0.18705636 -0.09454211 ...  0.16458566  0.12203252\n",
      "  0.17388478]\n",
      "training result\n",
      "0.6379928315412187\n",
      "test result\n",
      "0.55\n"
     ]
    }
   ],
   "source": [
    "experiment(inhomogeneous_poly_kernel, X, y, X_test, y_test, regu_para=1, eta=0.001, tol=0.1)"
   ]
  },
  {
   "cell_type": "code",
   "execution_count": null,
   "metadata": {
    "hidden": true
   },
   "outputs": [
    {
     "name": "stdout",
     "output_type": "stream",
     "text": [
      "Done kernel generating\n",
      "iter 0 train_accuracy:0.561700\n"
     ]
    },
    {
     "name": "stderr",
     "output_type": "stream",
     "text": [
      "/home/y247xie/.local/lib/python3.5/site-packages/ipykernel_launcher.py:3: RuntimeWarning: overflow encountered in exp\n",
      "  This is separate from the ipykernel package so we can avoid doing imports until\n"
     ]
    },
    {
     "name": "stdout",
     "output_type": "stream",
     "text": [
      "iter 2000 train_accuracy:0.521249\n",
      "iter 4000 train_accuracy:0.524322\n",
      "iter 6000 train_accuracy:0.520737\n",
      "iter 8000 train_accuracy:0.529954\n",
      "iter 10000 train_accuracy:0.522273\n",
      "iter 12000 train_accuracy:0.521761\n",
      "iter 14000 train_accuracy:0.503328\n",
      "iter 16000 train_accuracy:0.479775\n",
      "iter 18000 train_accuracy:0.519713\n",
      "iter 20000 train_accuracy:0.521761\n",
      "iter 22000 train_accuracy:0.521761\n",
      "iter 24000 train_accuracy:0.532002\n",
      "iter 26000 train_accuracy:0.522273\n",
      "iter 28000 train_accuracy:0.494112\n",
      "iter 30000 train_accuracy:0.521249\n",
      "iter 32000 train_accuracy:0.521761\n",
      "iter 34000 train_accuracy:0.483359\n",
      "iter 36000 train_accuracy:0.519201\n",
      "iter 38000 train_accuracy:0.520225\n",
      "iter 40000 train_accuracy:0.522273\n",
      "iter 42000 train_accuracy:0.516129\n",
      "iter 44000 train_accuracy:0.494112\n",
      "iter 46000 train_accuracy:0.492063\n",
      "iter 48000 train_accuracy:0.519713\n",
      "Done training, using time:(min) 2.832144820690155\n",
      "Done training\n",
      "[-0.00625517 -0.0331439  -0.01440623 ...  0.01616075  0.02451547\n",
      "  0.018909  ]\n",
      "training result\n",
      "0.5202252944188428\n",
      "test result\n",
      "0.4995\n"
     ]
    }
   ],
   "source": [
    "experiment(inhomogeneous_poly_kernel, X, y, X_test, y_test, regu_para=10, eta=0.01, tol=0.1)"
   ]
  },
  {
   "cell_type": "code",
   "execution_count": null,
   "metadata": {
    "hidden": true
   },
   "outputs": [],
   "source": [
    "experiment(inhomogeneous_poly_kernel, X, y, X_test, y_test, regu_para=10, eta=0.001, tol=0.1)"
   ]
  },
  {
   "cell_type": "code",
   "execution_count": null,
   "metadata": {
    "hidden": true
   },
   "outputs": [],
   "source": [
    "experiment(inhomogeneous_poly_kernel, X, y, X_test, y_test, regu_para=1, eta=0.03, tol=0.1)"
   ]
  },
  {
   "cell_type": "code",
   "execution_count": null,
   "metadata": {
    "hidden": true
   },
   "outputs": [],
   "source": []
  }
 ],
 "metadata": {
  "kernelspec": {
   "display_name": "Python 3",
   "language": "python",
   "name": "python3"
  },
  "language_info": {
   "codemirror_mode": {
    "name": "ipython",
    "version": 3
   },
   "file_extension": ".py",
   "mimetype": "text/x-python",
   "name": "python",
   "nbconvert_exporter": "python",
   "pygments_lexer": "ipython3",
   "version": "3.6.5"
  }
 },
 "nbformat": 4,
 "nbformat_minor": 2
}
