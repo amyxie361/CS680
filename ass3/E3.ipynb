{
 "cells": [
  {
   "cell_type": "markdown",
   "metadata": {},
   "source": [
    "# Building up"
   ]
  },
  {
   "cell_type": "code",
   "execution_count": 1,
   "metadata": {},
   "outputs": [
    {
     "name": "stdout",
     "output_type": "stream",
     "text": [
      "(1953, 3072)\n",
      "(1953,)\n",
      "Done loading training data, using time:(min) 0.06361965735753378\n"
     ]
    }
   ],
   "source": [
    "import numpy as np\n",
    "import time\n",
    "time_start = time.time()\n",
    "X = np.genfromtxt('00_Data/train_X_dog_cat.csv', delimiter=',')\n",
    "y = np.genfromtxt('00_Data/train_y_dog_cat.csv', delimiter=',')\n",
    "print(X.shape)\n",
    "\n",
    "n = X.shape[0]\n",
    "d = X.shape[1]\n",
    "print(y.shape)\n",
    "time_end = time.time()\n",
    "print(\"Done loading training data, using time:(min)\", (time_end-time_start)/60)"
   ]
  },
  {
   "cell_type": "code",
   "execution_count": 2,
   "metadata": {},
   "outputs": [
    {
     "name": "stdout",
     "output_type": "stream",
     "text": [
      "2000\n"
     ]
    }
   ],
   "source": [
    "X_test = np.genfromtxt('00_Data/test_X_dog_cat.csv', delimiter=',')\n",
    "y_test = np.genfromtxt('00_Data/test_y_dog_cat.csv', delimiter=',')\n",
    "m = X_test.shape[0]\n",
    "print(m)"
   ]
  },
  {
   "cell_type": "code",
   "execution_count": 3,
   "metadata": {},
   "outputs": [],
   "source": [
    "from sklearn import preprocessing\n",
    "scaler = preprocessing.MinMaxScaler().fit(X)\n",
    "X = scaler.transform(X)\n",
    "X_test = scaler.transform(X_test)\n"
   ]
  },
  {
   "cell_type": "code",
   "execution_count": 9,
   "metadata": {},
   "outputs": [],
   "source": [
    "def linear_kernel(x1,x2):\n",
    "    # x1 = (n,d) X2 = (m,d)\n",
    "    return(np.dot(x1,x2.T))\n",
    "\n",
    "def inhomogeneous_poly_kernel(x1,x2):\n",
    "    n = x1.shape[0]\n",
    "    m = x2.shape[0]\n",
    "    return np.power(np.ones(shape=(n,m)) + np.dot(x1,x2.T), 5)\n",
    "\n",
    "                  \n",
    "def gaussian_kernel(x1,x2,sigma=100):\n",
    "    n = x1.shape[0]\n",
    "    m = x2.shape[0]\n",
    "    K = np.zeros(shape=(n,m))\n",
    "    for i in range(n):\n",
    "        for j in range(m):\n",
    "            K[i][j] = gaussian(x1[i],x2[j],sigma)\n",
    "    return (K)\n",
    "\n",
    "def gaussian(x,y,sigma):\n",
    "    return np.exp((-(np.linalg.norm(x-y,2)**2))/(2*sigma**2))"
   ]
  },
  {
   "cell_type": "code",
   "execution_count": 5,
   "metadata": {},
   "outputs": [],
   "source": [
    "def evaluation(ans, y):\n",
    "    right = 0\n",
    "    num = ans.shape[0]\n",
    "    for i in range(ans.shape[0]):\n",
    "        if (ans[i] - 0.5)*y[i] > 0:\n",
    "            right += 1\n",
    "    return(right/float(num))"
   ]
  },
  {
   "cell_type": "code",
   "execution_count": 6,
   "metadata": {},
   "outputs": [],
   "source": [
    "def tolerable(delta,tol):\n",
    "    from numpy import linalg as LA\n",
    "    if LA.norm(delta,1) > tol:\n",
    "        return False\n",
    "    else:\n",
    "        return True"
   ]
  },
  {
   "cell_type": "code",
   "execution_count": 26,
   "metadata": {},
   "outputs": [],
   "source": [
    "def probability(alpha, Ki):\n",
    "    s = np.dot(alpha, Ki)\n",
    "    return(1/(1+np.exp(-s)))\n",
    "\n",
    "def train(K,y,max_iter,batch_size,regu_para, eta,tol):\n",
    "    time_start = time.time()\n",
    "    #alpha = np.random.uniform(size=(n))\n",
    "    alpha = np.zeros(n)\n",
    "    for t in range(max_iter):\n",
    "        samples = np.random.permutation(n)[:batch_size]\n",
    "        g = regu_para * alpha\n",
    "        #g = np.zeros(n)\n",
    "        for i in samples:\n",
    "            pi = probability(alpha, K[i])\n",
    "            g[i] = g[i] + (pi - (y[i]+1)/2.0)\n",
    "        alpha = alpha - eta*g\n",
    "        if tolerable(g, tol):\n",
    "            break\n",
    "        if t % 2000 == 0:\n",
    "            print(\"iter %d train_accuracy:%f\"%(t,evaluation(probability(alpha,K), y)))\n",
    "    time_end = time.time()\n",
    "    print(\"Done training, using time:(min)\", \n",
    "          (time_end-time_start)/60)\n",
    "    return(alpha)"
   ]
  },
  {
   "cell_type": "code",
   "execution_count": 27,
   "metadata": {},
   "outputs": [],
   "source": [
    "def experiment(kernel, X,y,X_test,y_test,regu_para, eta,tol= 0.1, max_iter=50000, batch_size=640):\n",
    "    K = kernel(X,X)\n",
    "    K_test = kernel(X,X_test)\n",
    "    print(\"Done kernel generating\")\n",
    "    alpha = train(K,y, max_iter,batch_size,regu_para, eta,tol)\n",
    "    print(\"Done training\")\n",
    "    print(alpha)\n",
    "    print(\"training result\")\n",
    "    ans = probability(alpha,K)\n",
    "    #print(ans)\n",
    "    print(evaluation(ans, y))\n",
    "    #print(y)\n",
    "    print(\"test result\")\n",
    "    ans = probability(alpha,K_test)\n",
    "    #print(ans)\n",
    "    print(evaluation(ans, y_test))\n",
    "    #print(y_test)"
   ]
  },
  {
   "cell_type": "raw",
   "metadata": {},
   "source": [
    "# Linear kernel exps"
   ]
  },
  {
   "cell_type": "code",
   "execution_count": 28,
   "metadata": {
    "scrolled": true
   },
   "outputs": [
    {
     "name": "stdout",
     "output_type": "stream",
     "text": [
      "Done kernel generating\n",
      "iter 0 train_accuracy:0.520225\n"
     ]
    },
    {
     "name": "stderr",
     "output_type": "stream",
     "text": [
      "/home/y247xie/.local/lib/python3.5/site-packages/ipykernel_launcher.py:3: RuntimeWarning: overflow encountered in exp\n",
      "  This is separate from the ipykernel package so we can avoid doing imports until\n"
     ]
    },
    {
     "name": "stdout",
     "output_type": "stream",
     "text": [
      "iter 2000 train_accuracy:0.555044\n",
      "iter 4000 train_accuracy:0.589350\n",
      "iter 6000 train_accuracy:0.593446\n",
      "iter 8000 train_accuracy:0.624680\n",
      "iter 10000 train_accuracy:0.665643\n",
      "iter 12000 train_accuracy:0.629288\n",
      "iter 14000 train_accuracy:0.621608\n",
      "iter 16000 train_accuracy:0.697901\n",
      "iter 18000 train_accuracy:0.627240\n",
      "iter 20000 train_accuracy:0.720430\n",
      "iter 22000 train_accuracy:0.710701\n",
      "iter 24000 train_accuracy:0.661546\n",
      "iter 26000 train_accuracy:0.632873\n",
      "iter 28000 train_accuracy:0.604199\n",
      "iter 30000 train_accuracy:0.584229\n",
      "iter 32000 train_accuracy:0.654378\n",
      "iter 34000 train_accuracy:0.636457\n",
      "iter 36000 train_accuracy:0.675371\n",
      "iter 38000 train_accuracy:0.584741\n",
      "iter 40000 train_accuracy:0.719406\n",
      "iter 42000 train_accuracy:0.623656\n",
      "iter 44000 train_accuracy:0.725550\n",
      "iter 46000 train_accuracy:0.610343\n",
      "iter 48000 train_accuracy:0.751152\n",
      "Done training, using time:(min) 2.5652570009231566\n",
      "Done training\n",
      "[-24.72967924 -82.53314759  -0.45824203 ...  71.2698941   77.80467792\n",
      "  83.31726411]\n",
      "training result\n",
      "0.6226318484383001\n",
      "test result\n",
      "0.5315\n"
     ]
    }
   ],
   "source": [
    "experiment(linear_kernel, X, y, X_test, y_test, regu_para=0, eta=0.01, tol=0.1)"
   ]
  },
  {
   "cell_type": "code",
   "execution_count": null,
   "metadata": {},
   "outputs": [],
   "source": [
    "experiment(linear_kernel, X, y, X_test, y_test, regu_para=1, eta=0.01, tol=0.01,max_iter=20000)"
   ]
  },
  {
   "cell_type": "code",
   "execution_count": 29,
   "metadata": {},
   "outputs": [
    {
     "name": "stdout",
     "output_type": "stream",
     "text": [
      "Done kernel generating\n",
      "iter 0 train_accuracy:0.524322\n",
      "iter 2000 train_accuracy:0.568356\n",
      "iter 4000 train_accuracy:0.577573\n",
      "iter 6000 train_accuracy:0.579109\n",
      "iter 8000 train_accuracy:0.619048\n",
      "iter 10000 train_accuracy:0.633385\n",
      "iter 12000 train_accuracy:0.570405\n",
      "iter 14000 train_accuracy:0.589350\n",
      "iter 16000 train_accuracy:0.669739\n",
      "iter 18000 train_accuracy:0.606759\n",
      "iter 20000 train_accuracy:0.658986\n",
      "iter 22000 train_accuracy:0.646697\n",
      "iter 24000 train_accuracy:0.707117\n",
      "iter 26000 train_accuracy:0.713262\n",
      "iter 28000 train_accuracy:0.640553\n",
      "iter 30000 train_accuracy:0.660522\n",
      "iter 32000 train_accuracy:0.738863\n",
      "iter 34000 train_accuracy:0.654378\n",
      "iter 36000 train_accuracy:0.640041\n",
      "iter 38000 train_accuracy:0.646185\n",
      "iter 40000 train_accuracy:0.627752\n",
      "iter 42000 train_accuracy:0.738351\n",
      "iter 44000 train_accuracy:0.624680\n",
      "iter 46000 train_accuracy:0.717870\n",
      "iter 48000 train_accuracy:0.708141\n",
      "Done training, using time:(min) 2.2449634432792664\n",
      "Done training\n",
      "[-2.55404882 -8.23323814 -0.05373824 ...  7.13329195  7.73501488\n",
      "  8.32977632]\n",
      "training result\n",
      "0.6912442396313364\n",
      "test result\n",
      "0.534\n"
     ]
    }
   ],
   "source": [
    "experiment(linear_kernel, X, y, X_test, y_test, regu_para=0, eta=0.001, tol=0.1)"
   ]
  },
  {
   "cell_type": "code",
   "execution_count": 30,
   "metadata": {},
   "outputs": [
    {
     "name": "stdout",
     "output_type": "stream",
     "text": [
      "Done kernel generating\n",
      "iter 0 train_accuracy:0.520225\n",
      "iter 2000 train_accuracy:0.573989\n",
      "iter 4000 train_accuracy:0.589350\n",
      "iter 6000 train_accuracy:0.585765\n",
      "iter 8000 train_accuracy:0.628776\n",
      "iter 10000 train_accuracy:0.636969\n",
      "iter 12000 train_accuracy:0.589350\n",
      "iter 14000 train_accuracy:0.619048\n",
      "iter 16000 train_accuracy:0.652330\n",
      "iter 18000 train_accuracy:0.619048\n",
      "iter 20000 train_accuracy:0.658986\n",
      "iter 22000 train_accuracy:0.704045\n",
      "iter 24000 train_accuracy:0.644649\n",
      "iter 26000 train_accuracy:0.737327\n",
      "iter 28000 train_accuracy:0.651818\n",
      "iter 30000 train_accuracy:0.704557\n",
      "iter 32000 train_accuracy:0.758833\n",
      "iter 34000 train_accuracy:0.693804\n",
      "iter 36000 train_accuracy:0.630824\n",
      "iter 38000 train_accuracy:0.663082\n",
      "iter 40000 train_accuracy:0.694828\n",
      "iter 42000 train_accuracy:0.706605\n",
      "iter 44000 train_accuracy:0.714286\n",
      "iter 46000 train_accuracy:0.692780\n",
      "iter 48000 train_accuracy:0.691244\n",
      "Done training, using time:(min) 2.2375803788503013\n",
      "Done training\n",
      "[-0.25375142 -0.80916862 -0.01319075 ...  0.704521    0.79774269\n",
      "  0.83047695]\n",
      "training result\n",
      "0.6620583717357911\n",
      "test result\n",
      "0.531\n"
     ]
    }
   ],
   "source": [
    "experiment(linear_kernel, X, y, X_test, y_test, regu_para=0, eta=0.0001, tol=0.1)"
   ]
  },
  {
   "cell_type": "code",
   "execution_count": 31,
   "metadata": {},
   "outputs": [
    {
     "name": "stdout",
     "output_type": "stream",
     "text": [
      "Done kernel generating\n",
      "iter 0 train_accuracy:0.520225\n",
      "iter 2000 train_accuracy:0.520737\n",
      "iter 4000 train_accuracy:0.520225\n",
      "iter 6000 train_accuracy:0.519713\n",
      "iter 8000 train_accuracy:0.519713\n",
      "iter 10000 train_accuracy:0.521249\n",
      "iter 12000 train_accuracy:0.522273\n",
      "iter 14000 train_accuracy:0.520737\n",
      "iter 16000 train_accuracy:0.519201\n",
      "iter 18000 train_accuracy:0.519713\n",
      "iter 20000 train_accuracy:0.520225\n",
      "iter 22000 train_accuracy:0.519713\n",
      "iter 24000 train_accuracy:0.520225\n",
      "iter 26000 train_accuracy:0.520225\n",
      "iter 28000 train_accuracy:0.521761\n",
      "iter 30000 train_accuracy:0.521761\n",
      "iter 32000 train_accuracy:0.519713\n",
      "iter 34000 train_accuracy:0.520225\n",
      "iter 36000 train_accuracy:0.522273\n",
      "iter 38000 train_accuracy:0.521761\n",
      "iter 40000 train_accuracy:0.519713\n",
      "iter 42000 train_accuracy:0.520737\n",
      "iter 44000 train_accuracy:0.520225\n",
      "iter 46000 train_accuracy:0.521761\n",
      "iter 48000 train_accuracy:0.520737\n",
      "Done training, using time:(min) 2.2182202696800233\n",
      "Done training\n",
      "[-0.00049907 -0.01286958 -0.01324424 ...  0.01414946  0.01492494\n",
      "  0.00917827]\n",
      "training result\n",
      "0.49206349206349204\n",
      "test result\n",
      "0.5125\n"
     ]
    }
   ],
   "source": [
    "experiment(linear_kernel, X, y, X_test, y_test, regu_para=10, eta=0.001, tol=0.1)"
   ]
  },
  {
   "cell_type": "code",
   "execution_count": 32,
   "metadata": {},
   "outputs": [
    {
     "name": "stdout",
     "output_type": "stream",
     "text": [
      "Done kernel generating\n",
      "iter 0 train_accuracy:0.520225\n",
      "iter 2000 train_accuracy:0.520225\n",
      "iter 4000 train_accuracy:0.520225\n",
      "iter 6000 train_accuracy:0.520225\n",
      "iter 8000 train_accuracy:0.520225\n",
      "iter 10000 train_accuracy:0.520225\n",
      "iter 12000 train_accuracy:0.520225\n",
      "iter 14000 train_accuracy:0.520225\n",
      "iter 16000 train_accuracy:0.520225\n",
      "iter 18000 train_accuracy:0.520225\n",
      "iter 20000 train_accuracy:0.520225\n",
      "iter 22000 train_accuracy:0.520225\n",
      "iter 24000 train_accuracy:0.520225\n",
      "iter 26000 train_accuracy:0.520225\n",
      "iter 28000 train_accuracy:0.520225\n",
      "iter 30000 train_accuracy:0.520225\n",
      "iter 32000 train_accuracy:0.520225\n",
      "iter 34000 train_accuracy:0.520225\n",
      "iter 36000 train_accuracy:0.520225\n",
      "iter 38000 train_accuracy:0.520225\n",
      "iter 40000 train_accuracy:0.520225\n",
      "iter 42000 train_accuracy:0.520225\n",
      "iter 44000 train_accuracy:0.520225\n",
      "iter 46000 train_accuracy:0.520225\n",
      "iter 48000 train_accuracy:0.520225\n",
      "Done training, using time:(min) 2.213572013378143\n",
      "Done training\n",
      "[-0.00146557 -0.00285996 -0.00867031 ...  0.00754734  0.00556321\n",
      "  0.00673655]\n",
      "training result\n",
      "0.4838709677419355\n",
      "test result\n",
      "0.5055\n"
     ]
    }
   ],
   "source": [
    "experiment(linear_kernel, X, y, X_test, y_test, regu_para=30, eta=0.001, tol=0.1)"
   ]
  },
  {
   "cell_type": "code",
   "execution_count": 33,
   "metadata": {
    "scrolled": false
   },
   "outputs": [
    {
     "name": "stdout",
     "output_type": "stream",
     "text": [
      "Done kernel generating\n",
      "iter 0 train_accuracy:0.534562\n",
      "iter 2000 train_accuracy:0.533026\n",
      "iter 4000 train_accuracy:0.534562\n",
      "iter 6000 train_accuracy:0.539171\n",
      "iter 8000 train_accuracy:0.549411\n",
      "iter 10000 train_accuracy:0.535074\n",
      "iter 12000 train_accuracy:0.550435\n",
      "iter 14000 train_accuracy:0.534562\n",
      "iter 16000 train_accuracy:0.545827\n",
      "iter 18000 train_accuracy:0.554019\n",
      "iter 20000 train_accuracy:0.542755\n",
      "iter 22000 train_accuracy:0.554019\n",
      "iter 24000 train_accuracy:0.538658\n",
      "iter 26000 train_accuracy:0.536610\n",
      "iter 28000 train_accuracy:0.541219\n",
      "iter 30000 train_accuracy:0.551971\n",
      "iter 32000 train_accuracy:0.562724\n",
      "iter 34000 train_accuracy:0.537122\n",
      "iter 36000 train_accuracy:0.540195\n",
      "iter 38000 train_accuracy:0.545827\n",
      "iter 40000 train_accuracy:0.542243\n",
      "iter 42000 train_accuracy:0.545315\n",
      "iter 44000 train_accuracy:0.560164\n",
      "iter 46000 train_accuracy:0.550947\n",
      "iter 48000 train_accuracy:0.537634\n",
      "Done training, using time:(min) 2.1733374913533527\n",
      "Done training\n",
      "[-0.15437237 -0.15523217 -0.006991   ...  0.15957007  0.1771946\n",
      "  0.16405582]\n",
      "training result\n",
      "0.5176651305683564\n",
      "test result\n",
      "0.52\n"
     ]
    }
   ],
   "source": [
    "experiment(linear_kernel, X, y, X_test, y_test, regu_para=1, eta=0.001, tol=0.1)"
   ]
  },
  {
   "cell_type": "code",
   "execution_count": null,
   "metadata": {},
   "outputs": [],
   "source": [
    "experiment(linear_kernel, X, y, X_test, y_test, regu_para=0.1, eta=0.01, tol=0.1)"
   ]
  },
  {
   "cell_type": "code",
   "execution_count": null,
   "metadata": {},
   "outputs": [],
   "source": [
    "experiment(linear_kernel, X, y, X_test, y_test, regu_para=0.3, eta=0.01, tol=0.1)"
   ]
  },
  {
   "cell_type": "code",
   "execution_count": null,
   "metadata": {},
   "outputs": [],
   "source": [
    "experiment(linear_kernel, X, y, X_test, y_test, regu_para=0.01, eta=0.01, tol=0.1)"
   ]
  },
  {
   "cell_type": "markdown",
   "metadata": {},
   "source": [
    "# gaussian kernel exps"
   ]
  },
  {
   "cell_type": "code",
   "execution_count": null,
   "metadata": {},
   "outputs": [
    {
     "name": "stdout",
     "output_type": "stream",
     "text": [
      "Done kernel generating\n",
      "iter 0 train_accuracy:0.520225\n",
      "iter 2000 train_accuracy:0.601639\n",
      "iter 4000 train_accuracy:0.612391\n",
      "iter 6000 train_accuracy:0.596006\n",
      "iter 8000 train_accuracy:0.603175\n",
      "iter 10000 train_accuracy:0.590886\n",
      "iter 12000 train_accuracy:0.603175\n",
      "iter 14000 train_accuracy:0.556580\n",
      "iter 16000 train_accuracy:0.567332\n",
      "iter 18000 train_accuracy:0.611879\n",
      "iter 20000 train_accuracy:0.562724\n",
      "iter 22000 train_accuracy:0.605223\n",
      "iter 24000 train_accuracy:0.608295\n",
      "iter 26000 train_accuracy:0.600614\n",
      "iter 28000 train_accuracy:0.582181\n",
      "iter 30000 train_accuracy:0.604711\n",
      "iter 32000 train_accuracy:0.605223\n",
      "iter 34000 train_accuracy:0.612903\n",
      "iter 36000 train_accuracy:0.610343\n",
      "iter 38000 train_accuracy:0.608295\n",
      "iter 40000 train_accuracy:0.596518\n",
      "iter 42000 train_accuracy:0.612391\n",
      "iter 44000 train_accuracy:0.603687\n",
      "iter 46000 train_accuracy:0.605223\n",
      "iter 48000 train_accuracy:0.601126\n",
      "Done training, using time:(min) 2.2019865552584332\n",
      "Done training\n",
      "[-1.21471422 -1.67036781 -1.34451458 ...  1.84904955  1.47290714\n",
      "  1.53931509]\n",
      "training result\n",
      "0.5954941116231439\n",
      "test result\n",
      "0.5805\n"
     ]
    }
   ],
   "source": [
    "experiment(gaussian_kernel, X, y, X_test, y_test, regu_para=0.1, eta=0.01, tol=0.1)"
   ]
  },
  {
   "cell_type": "code",
   "execution_count": null,
   "metadata": {},
   "outputs": [],
   "source": [
    "experiment(gaussian_kernel, X, y, X_test, y_test, regu_para=0.3, eta=0.001, tol=0.1)"
   ]
  },
  {
   "cell_type": "code",
   "execution_count": 35,
   "metadata": {},
   "outputs": [
    {
     "name": "stdout",
     "output_type": "stream",
     "text": [
      "Done kernel generating\n",
      "iter 0 train_accuracy:0.520225\n",
      "iter 2000 train_accuracy:0.556580\n",
      "iter 4000 train_accuracy:0.564772\n",
      "iter 6000 train_accuracy:0.585253\n",
      "iter 8000 train_accuracy:0.573989\n",
      "iter 10000 train_accuracy:0.582693\n",
      "iter 12000 train_accuracy:0.565284\n",
      "iter 14000 train_accuracy:0.557092\n",
      "iter 16000 train_accuracy:0.579621\n",
      "iter 18000 train_accuracy:0.568868\n",
      "iter 20000 train_accuracy:0.564772\n",
      "iter 22000 train_accuracy:0.571941\n",
      "iter 24000 train_accuracy:0.562212\n",
      "iter 26000 train_accuracy:0.572453\n",
      "iter 28000 train_accuracy:0.584229\n",
      "iter 30000 train_accuracy:0.569892\n",
      "iter 32000 train_accuracy:0.570917\n",
      "iter 34000 train_accuracy:0.556580\n",
      "iter 36000 train_accuracy:0.566820\n",
      "iter 38000 train_accuracy:0.563236\n",
      "iter 40000 train_accuracy:0.585253\n",
      "iter 42000 train_accuracy:0.571941\n",
      "iter 44000 train_accuracy:0.565284\n",
      "iter 46000 train_accuracy:0.554019\n",
      "iter 48000 train_accuracy:0.555556\n",
      "Done training, using time:(min) 2.2260678807894387\n",
      "Done training\n",
      "[-0.14191776 -0.16183555 -0.15345055 ...  0.18026807  0.1622929\n",
      "  0.15956562]\n",
      "training result\n",
      "0.5698924731182796\n",
      "test result\n",
      "0.5715\n"
     ]
    }
   ],
   "source": [
    "experiment(gaussian_kernel, X, y, X_test, y_test, regu_para=1, eta=0.001, tol=0.1)"
   ]
  },
  {
   "cell_type": "code",
   "execution_count": null,
   "metadata": {},
   "outputs": [
    {
     "name": "stdout",
     "output_type": "stream",
     "text": [
      "Done kernel generating\n",
      "iter 0 train_accuracy:0.479775\n",
      "iter 2000 train_accuracy:0.520225\n",
      "iter 4000 train_accuracy:0.520225\n",
      "iter 6000 train_accuracy:0.520225\n",
      "iter 8000 train_accuracy:0.520225\n",
      "iter 10000 train_accuracy:0.520225\n",
      "iter 12000 train_accuracy:0.520225\n",
      "iter 14000 train_accuracy:0.520225\n",
      "iter 16000 train_accuracy:0.520225\n",
      "iter 18000 train_accuracy:0.520225\n",
      "iter 20000 train_accuracy:0.520225\n",
      "iter 22000 train_accuracy:0.520225\n",
      "iter 24000 train_accuracy:0.520225\n",
      "iter 26000 train_accuracy:0.520225\n",
      "iter 28000 train_accuracy:0.520225\n",
      "iter 30000 train_accuracy:0.520225\n",
      "iter 32000 train_accuracy:0.520225\n",
      "iter 34000 train_accuracy:0.520225\n",
      "iter 36000 train_accuracy:0.520225\n",
      "iter 38000 train_accuracy:0.520225\n",
      "iter 40000 train_accuracy:0.520225\n",
      "iter 42000 train_accuracy:0.520225\n",
      "iter 44000 train_accuracy:0.520225\n",
      "iter 46000 train_accuracy:0.520225\n",
      "iter 48000 train_accuracy:0.520225\n",
      "Done training, using time:(min) 2.260877780119578\n",
      "Done training\n",
      "[-0.01481768 -0.01459545 -0.01419502 ...  0.01818929  0.01809925\n",
      "  0.01716167]\n",
      "training result\n",
      "0.5202252944188428\n",
      "test result\n",
      "0.5\n"
     ]
    }
   ],
   "source": [
    "experiment(gaussian_kernel, X, y, X_test, y_test, regu_para=10, eta=0.001, tol=0.1)"
   ]
  },
  {
   "cell_type": "code",
   "execution_count": 34,
   "metadata": {},
   "outputs": [
    {
     "name": "stdout",
     "output_type": "stream",
     "text": [
      "Done kernel generating\n",
      "iter 0 train_accuracy:0.520225\n",
      "iter 2000 train_accuracy:0.585765\n",
      "iter 4000 train_accuracy:0.602151\n",
      "iter 6000 train_accuracy:0.602663\n",
      "iter 8000 train_accuracy:0.598054\n",
      "iter 10000 train_accuracy:0.603175\n",
      "iter 12000 train_accuracy:0.606247\n",
      "iter 14000 train_accuracy:0.605735\n",
      "iter 16000 train_accuracy:0.610855\n",
      "iter 18000 train_accuracy:0.612391\n",
      "iter 20000 train_accuracy:0.612903\n",
      "iter 22000 train_accuracy:0.617512\n",
      "iter 24000 train_accuracy:0.616999\n",
      "iter 26000 train_accuracy:0.618536\n",
      "iter 28000 train_accuracy:0.622632\n",
      "iter 30000 train_accuracy:0.625192\n",
      "iter 32000 train_accuracy:0.623656\n",
      "iter 34000 train_accuracy:0.622632\n",
      "iter 36000 train_accuracy:0.626216\n",
      "iter 38000 train_accuracy:0.627240\n",
      "iter 40000 train_accuracy:0.629288\n",
      "iter 42000 train_accuracy:0.633385\n",
      "iter 44000 train_accuracy:0.634409\n",
      "iter 46000 train_accuracy:0.632873\n",
      "iter 48000 train_accuracy:0.634409\n",
      "Done training, using time:(min) 2.194558862845103\n",
      "Done training\n",
      "[-5.4906544  -8.88665359 -5.54955064 ...  9.62636094  7.49341829\n",
      "  8.07615227]\n",
      "training result\n",
      "0.6364567332309268\n",
      "test result\n",
      "0.597\n"
     ]
    }
   ],
   "source": [
    "experiment(gaussian_kernel, X, y, X_test, y_test, regu_para=0, eta=0.001, tol=0.1)"
   ]
  },
  {
   "cell_type": "code",
   "execution_count": null,
   "metadata": {},
   "outputs": [
    {
     "name": "stdout",
     "output_type": "stream",
     "text": [
      "Done kernel generating\n",
      "iter 0 train_accuracy:0.520225\n",
      "iter 2000 train_accuracy:0.600614\n",
      "iter 4000 train_accuracy:0.583205\n",
      "iter 6000 train_accuracy:0.559652\n",
      "iter 8000 train_accuracy:0.594982\n",
      "iter 10000 train_accuracy:0.536098\n",
      "iter 12000 train_accuracy:0.595494\n",
      "iter 14000 train_accuracy:0.563236\n",
      "iter 16000 train_accuracy:0.575013\n",
      "iter 18000 train_accuracy:0.602151\n",
      "iter 20000 train_accuracy:0.565284\n",
      "iter 22000 train_accuracy:0.596006\n",
      "iter 24000 train_accuracy:0.576037\n",
      "iter 26000 train_accuracy:0.578085\n",
      "iter 28000 train_accuracy:0.559652\n",
      "iter 30000 train_accuracy:0.603175\n",
      "iter 32000 train_accuracy:0.554019\n",
      "iter 34000 train_accuracy:0.602151\n",
      "iter 36000 train_accuracy:0.569892\n",
      "iter 38000 train_accuracy:0.573477\n",
      "iter 40000 train_accuracy:0.589862\n",
      "iter 42000 train_accuracy:0.540707\n",
      "iter 44000 train_accuracy:0.573989\n",
      "iter 46000 train_accuracy:0.589350\n",
      "iter 48000 train_accuracy:0.590374\n",
      "Done training, using time:(min) 2.2309987624486287\n",
      "Done training\n",
      "[-0.47322899 -0.58491732 -0.4929542  ...  0.60764742  0.51055701\n",
      "  0.49927595]\n",
      "training result\n",
      "0.590373783922171\n",
      "test result\n",
      "0.5845\n"
     ]
    }
   ],
   "source": [
    "experiment(gaussian_kernel, X, y, X_test, y_test, regu_para=0.3, eta=0.01, tol=0.01)"
   ]
  },
  {
   "cell_type": "code",
   "execution_count": null,
   "metadata": {},
   "outputs": [],
   "source": [
    "experiment(gaussian_kernel, X, y, X_test, y_test, regu_para=0, eta=0.001, tol=0.1,max_iter=500000)"
   ]
  },
  {
   "cell_type": "code",
   "execution_count": null,
   "metadata": {},
   "outputs": [
    {
     "name": "stdout",
     "output_type": "stream",
     "text": [
      "Done kernel generating\n",
      "iter 0 train_accuracy:0.520225\n",
      "iter 2000 train_accuracy:0.589862\n",
      "iter 4000 train_accuracy:0.599590\n",
      "iter 6000 train_accuracy:0.601639\n",
      "iter 8000 train_accuracy:0.602151\n",
      "iter 10000 train_accuracy:0.601639\n",
      "iter 12000 train_accuracy:0.603687\n",
      "iter 14000 train_accuracy:0.609319\n",
      "iter 16000 train_accuracy:0.610343\n",
      "iter 18000 train_accuracy:0.610855\n",
      "iter 20000 train_accuracy:0.612903\n",
      "iter 22000 train_accuracy:0.617512\n",
      "iter 24000 train_accuracy:0.615975\n",
      "iter 26000 train_accuracy:0.618536\n",
      "iter 28000 train_accuracy:0.619048\n",
      "iter 30000 train_accuracy:0.619560\n",
      "iter 32000 train_accuracy:0.618536\n",
      "iter 34000 train_accuracy:0.619048\n",
      "iter 36000 train_accuracy:0.618536\n",
      "iter 38000 train_accuracy:0.624680\n",
      "iter 40000 train_accuracy:0.620072\n",
      "iter 42000 train_accuracy:0.627240\n",
      "iter 44000 train_accuracy:0.626216\n",
      "iter 46000 train_accuracy:0.627752\n",
      "iter 48000 train_accuracy:0.629288\n",
      "Done training, using time:(min) 2.177192775408427\n",
      "Done training\n",
      "[-4.40544097 -7.00185946 -4.49301202 ...  7.57443077  5.89439894\n",
      "  6.26651624]\n",
      "training result\n",
      "0.6282642089093702\n",
      "test result\n",
      "0.5975\n"
     ]
    }
   ],
   "source": [
    "experiment(gaussian_kernel, X, y, X_test, y_test, regu_para=0.01, eta=0.001, tol=0.01)"
   ]
  },
  {
   "cell_type": "code",
   "execution_count": null,
   "metadata": {},
   "outputs": [],
   "source": [
    "experiment(gaussian_kernel, X, y, X_test, y_test, regu_para=0, eta=0.0001, tol=0.01)"
   ]
  },
  {
   "cell_type": "code",
   "execution_count": null,
   "metadata": {},
   "outputs": [],
   "source": [
    "experiment(gaussian_kernel, X, y, X_test, y_test, regu_para=0, eta=1, tol=0.001)"
   ]
  },
  {
   "cell_type": "code",
   "execution_count": null,
   "metadata": {},
   "outputs": [],
   "source": [
    "experiment(gaussian_kernel, X, y, X_test, y_test, regu_para=0.03, eta=0.0001, tol=0.01)"
   ]
  },
  {
   "cell_type": "code",
   "execution_count": null,
   "metadata": {},
   "outputs": [],
   "source": [
    "experiment(gaussian_kernel, X, y, X_test, y_test, regu_para=0.01, eta=0.0001, tol=0.01, batch_size=500)"
   ]
  },
  {
   "cell_type": "code",
   "execution_count": null,
   "metadata": {},
   "outputs": [],
   "source": [
    "experiment(gaussian_kernel, X, y, X_test, y_test, regu_para=0.01, eta=0.0001, tol=0.01, batch_size=50)"
   ]
  },
  {
   "cell_type": "code",
   "execution_count": null,
   "metadata": {},
   "outputs": [],
   "source": [
    "experiment(gaussian_kernel, X, y, X_test, y_test, regu_para=0.1, eta=0.001, tol=0.1,batch_size=50, max_iter=500000)"
   ]
  },
  {
   "cell_type": "markdown",
   "metadata": {},
   "source": [
    "# inhomogeneous kernel exps"
   ]
  },
  {
   "cell_type": "code",
   "execution_count": null,
   "metadata": {},
   "outputs": [
    {
     "name": "stdout",
     "output_type": "stream",
     "text": [
      "Done kernel generating\n",
      "iter 0 train_accuracy:0.525858\n"
     ]
    },
    {
     "name": "stderr",
     "output_type": "stream",
     "text": [
      "/home/y247xie/.local/lib/python3.5/site-packages/ipykernel_launcher.py:3: RuntimeWarning: overflow encountered in exp\n",
      "  This is separate from the ipykernel package so we can avoid doing imports until\n"
     ]
    },
    {
     "name": "stdout",
     "output_type": "stream",
     "text": [
      "iter 2000 train_accuracy:0.962110\n",
      "iter 4000 train_accuracy:0.988223\n",
      "Done training, using time:(min) 0.28302624622980754\n",
      "Done training\n",
      "[-0.044  -0.2965 -0.127  ...  0.266   0.1635  0.26  ]\n",
      "training result\n",
      "0.9912954429083461\n",
      "test result\n",
      "0.6015\n"
     ]
    }
   ],
   "source": [
    "experiment(inhomogeneous_poly_kernel, X, y, X_test, y_test, regu_para=0, eta=0.001, tol=0.01)"
   ]
  },
  {
   "cell_type": "code",
   "execution_count": null,
   "metadata": {},
   "outputs": [
    {
     "name": "stdout",
     "output_type": "stream",
     "text": [
      "Done kernel generating\n",
      "iter 0 train_accuracy:0.518689\n"
     ]
    },
    {
     "name": "stderr",
     "output_type": "stream",
     "text": [
      "/home/y247xie/.local/lib/python3.5/site-packages/ipykernel_launcher.py:3: RuntimeWarning: overflow encountered in exp\n",
      "  This is separate from the ipykernel package so we can avoid doing imports until\n"
     ]
    },
    {
     "name": "stdout",
     "output_type": "stream",
     "text": [
      "iter 2000 train_accuracy:0.544291\n",
      "iter 4000 train_accuracy:0.570405\n",
      "iter 6000 train_accuracy:0.568356\n",
      "iter 8000 train_accuracy:0.594982\n",
      "iter 10000 train_accuracy:0.586790\n",
      "iter 12000 train_accuracy:0.699949\n",
      "iter 14000 train_accuracy:0.648746\n",
      "iter 16000 train_accuracy:0.830005\n",
      "iter 18000 train_accuracy:0.526370\n",
      "iter 20000 train_accuracy:0.644137\n",
      "iter 22000 train_accuracy:0.573477\n",
      "iter 24000 train_accuracy:0.578085\n",
      "iter 26000 train_accuracy:0.811572\n",
      "iter 28000 train_accuracy:0.658986\n",
      "iter 30000 train_accuracy:0.653354\n",
      "iter 32000 train_accuracy:0.796723\n",
      "iter 34000 train_accuracy:0.813620\n",
      "iter 36000 train_accuracy:0.734767\n",
      "iter 38000 train_accuracy:0.712750\n",
      "iter 40000 train_accuracy:0.547363\n",
      "iter 42000 train_accuracy:0.539171\n",
      "iter 44000 train_accuracy:0.631848\n",
      "iter 46000 train_accuracy:0.687660\n",
      "iter 48000 train_accuracy:0.830517\n",
      "Done training, using time:(min) 2.8351170420646667\n",
      "Done training\n",
      "[-0.02731652 -0.18705636 -0.09454211 ...  0.16458566  0.12203252\n",
      "  0.17388478]\n",
      "training result\n",
      "0.6379928315412187\n",
      "test result\n",
      "0.55\n"
     ]
    }
   ],
   "source": [
    "experiment(inhomogeneous_poly_kernel, X, y, X_test, y_test, regu_para=1, eta=0.001, tol=0.1)"
   ]
  },
  {
   "cell_type": "code",
   "execution_count": null,
   "metadata": {},
   "outputs": [
    {
     "name": "stdout",
     "output_type": "stream",
     "text": [
      "Done kernel generating\n",
      "iter 0 train_accuracy:0.561700\n"
     ]
    },
    {
     "name": "stderr",
     "output_type": "stream",
     "text": [
      "/home/y247xie/.local/lib/python3.5/site-packages/ipykernel_launcher.py:3: RuntimeWarning: overflow encountered in exp\n",
      "  This is separate from the ipykernel package so we can avoid doing imports until\n"
     ]
    },
    {
     "name": "stdout",
     "output_type": "stream",
     "text": [
      "iter 2000 train_accuracy:0.521249\n",
      "iter 4000 train_accuracy:0.524322\n",
      "iter 6000 train_accuracy:0.520737\n",
      "iter 8000 train_accuracy:0.529954\n",
      "iter 10000 train_accuracy:0.522273\n",
      "iter 12000 train_accuracy:0.521761\n",
      "iter 14000 train_accuracy:0.503328\n",
      "iter 16000 train_accuracy:0.479775\n",
      "iter 18000 train_accuracy:0.519713\n",
      "iter 20000 train_accuracy:0.521761\n",
      "iter 22000 train_accuracy:0.521761\n",
      "iter 24000 train_accuracy:0.532002\n",
      "iter 26000 train_accuracy:0.522273\n",
      "iter 28000 train_accuracy:0.494112\n",
      "iter 30000 train_accuracy:0.521249\n",
      "iter 32000 train_accuracy:0.521761\n",
      "iter 34000 train_accuracy:0.483359\n",
      "iter 36000 train_accuracy:0.519201\n",
      "iter 38000 train_accuracy:0.520225\n",
      "iter 40000 train_accuracy:0.522273\n",
      "iter 42000 train_accuracy:0.516129\n",
      "iter 44000 train_accuracy:0.494112\n",
      "iter 46000 train_accuracy:0.492063\n",
      "iter 48000 train_accuracy:0.519713\n",
      "Done training, using time:(min) 2.832144820690155\n",
      "Done training\n",
      "[-0.00625517 -0.0331439  -0.01440623 ...  0.01616075  0.02451547\n",
      "  0.018909  ]\n",
      "training result\n",
      "0.5202252944188428\n",
      "test result\n",
      "0.4995\n"
     ]
    }
   ],
   "source": [
    "experiment(inhomogeneous_poly_kernel, X, y, X_test, y_test, regu_para=10, eta=0.01, tol=0.1)"
   ]
  },
  {
   "cell_type": "code",
   "execution_count": null,
   "metadata": {},
   "outputs": [],
   "source": [
    "experiment(inhomogeneous_poly_kernel, X, y, X_test, y_test, regu_para=10, eta=0.001, tol=0.1)"
   ]
  },
  {
   "cell_type": "code",
   "execution_count": null,
   "metadata": {},
   "outputs": [],
   "source": [
    "experiment(inhomogeneous_poly_kernel, X, y, X_test, y_test, regu_para=1, eta=0.03, tol=0.1)"
   ]
  },
  {
   "cell_type": "code",
   "execution_count": null,
   "metadata": {},
   "outputs": [],
   "source": []
  }
 ],
 "metadata": {
  "kernelspec": {
   "display_name": "Python 3",
   "language": "python",
   "name": "python3"
  },
  "language_info": {
   "codemirror_mode": {
    "name": "ipython",
    "version": 3
   },
   "file_extension": ".py",
   "mimetype": "text/x-python",
   "name": "python",
   "nbconvert_exporter": "python",
   "pygments_lexer": "ipython3",
   "version": "3.5.2"
  }
 },
 "nbformat": 4,
 "nbformat_minor": 2
}
